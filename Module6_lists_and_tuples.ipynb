{
  "nbformat": 4,
  "nbformat_minor": 0,
  "metadata": {
    "kernelspec": {
      "display_name": "Python 3",
      "language": "python",
      "name": "python3"
    },
    "language_info": {
      "codemirror_mode": {
        "name": "ipython",
        "version": 3
      },
      "file_extension": ".py",
      "mimetype": "text/x-python",
      "name": "python",
      "nbconvert_exporter": "python",
      "pygments_lexer": "ipython3",
      "version": "3.7.1"
    },
    "colab": {
      "name": "Module6_lists_and_tuples.ipynb",
      "provenance": [],
      "collapsed_sections": [],
      "include_colab_link": true
    }
  },
  "cells": [
    {
      "cell_type": "markdown",
      "metadata": {
        "id": "view-in-github",
        "colab_type": "text"
      },
      "source": [
        "<a href=\"https://colab.research.google.com/github/JaimeAdele/APEX/blob/main/Module6_lists_and_tuples.ipynb\" target=\"_parent\"><img src=\"https://colab.research.google.com/assets/colab-badge.svg\" alt=\"Open In Colab\"/></a>"
      ]
    },
    {
      "cell_type": "markdown",
      "metadata": {
        "id": "Zhf5vzIRS9y6"
      },
      "source": [
        "<img src='https://images.pexels.com/photos/131979/pexels-photo-131979.jpeg?auto=compress&cs=tinysrgb&dpr=2&h=750&w=1260' width=700>  \n",
        "Photo by freestocks.org from Pexels\n"
      ]
    },
    {
      "cell_type": "markdown",
      "metadata": {
        "id": "1_Z_JpWjb1Vq"
      },
      "source": [
        "# APEX Faculty Training, Module 6: Lists and tuples\n",
        "\n",
        "Created by Valerie Carr and Jaime Zuspann  \n",
        "Licensed under a Creative Commons license: CC BY-NC-SA  \n",
        "Last updated: Feb 1, 2022  \n",
        "\n",
        "**Learning outcomes**  \n",
        "To learn about and gain practice with:\n",
        "1. Syntax for creating list and tuples\n",
        "2. Differing properties between lists and tuples\n",
        "3. Operations that can be performed with list and tuples\n"
      ]
    },
    {
      "cell_type": "markdown",
      "metadata": {
        "id": "Tkk6HcLgb1Vr"
      },
      "source": [
        "## 1. A couple notes before you start \n",
        "* This file is view only, meaning that you can't edit it.\n",
        "    * To create an editable copy, look towards the top of the notebook and click on `Copy to Drive`. This will cause a new tab to open with your own personal copy.\n",
        "    * If you want to refer back to your copy in the future, you can find it in Google Drive in a folder called `Colab Notebooks`.\n",
        "* To run a cell, use `shift` + `enter`.   \n",
        "* Keep the following Python style preferences in mind:\n",
        "    * Variable names should use `snake_case`\n",
        "    * Include spaces before and after operators, e.g., `x + 1`\n",
        "    * Don't put unnecessary spaces after a function name, before the parentheses\n",
        "        * Correct: `print(my_variable)`\n",
        "        * Incorrect: `print (my_variable)`\n",
        "    * Don't put unnecessary spaces at the beginning or end of parentheses\n",
        "        * Correct: `print(my_variable)`\n",
        "        * Incorrect: `print( my_variable )`"
      ]
    },
    {
      "cell_type": "markdown",
      "metadata": {
        "id": "nkUWwSYf_QKt"
      },
      "source": [
        "## 2. List basics  \n",
        "A list is a data type that contains a sequence of items. The items in a list can be of any type: integers, floats, strings, booleans, etc. Items of different data types can also be contained in the same list, although mixed-type lists are not common in practice.  \n",
        " \n",
        "To tell Python that something is a list, we use square brackets to surround the items and we separate items with commas. Below are examples of several lists:\n",
        "\n",
        "```\n",
        "int_list = [1, 2, 3, 4]\n",
        "float_list = [1.41, 9.63, 2.72, 3.14, 8.99]\n",
        "bool_list = [True, True, False]\n",
        "str_list = ['alpha', 'beta', 'gamma', 'delta', 'epsilon']\n",
        "mix_list = [1, 1.61, False, 'delta']\n",
        "```"
      ]
    },
    {
      "cell_type": "markdown",
      "metadata": {
        "id": "0g8rWiFRneXu"
      },
      "source": [
        "<font color='red'>Exercise 1</font>  \n",
        "In the cell below:\n",
        "* Create a list called `names` that contains several strings: Your first name, a family member's name, and an actor's first name. Note: given that these names are strings, you'll need to put quote marks around each individual name.\n",
        "* Create a list called `odd_nums` that contains several integers, specifically, odd numbers between 1-10.\n",
        "* Print each list."
      ]
    },
    {
      "cell_type": "code",
      "metadata": {
        "id": "nKx3eaHsb1Vu"
      },
      "source": [
        "# List of names\n",
        "\n",
        "\n",
        "# List of odd numbers\n",
        "\n",
        "\n",
        "# Print\n"
      ],
      "execution_count": null,
      "outputs": []
    },
    {
      "cell_type": "markdown",
      "metadata": {
        "id": "piDu9pw1b1Vy"
      },
      "source": [
        "## 3. Operations with lists\n",
        "Similar to how Python performs different operations on number types and strings, there are also operations that are specific to lists. However, many operations that you've already learned apply to lists as well."
      ]
    },
    {
      "cell_type": "markdown",
      "metadata": {
        "id": "_aB9Ulvzb1Vy"
      },
      "source": [
        "### 3a. Concatenation\n",
        "Just like strings, lists can be joined together (concatenated) with the `+` operator. \n",
        "\n",
        "<font color='red'>Exercise 2</font>   \n",
        "In the cell below, you can see an example in which two lists relating to ice cream toppings are concatenated to create a new list called `all_tops`. Before running the cell, ask yourself: What do you think `all_tops` will look like? Run the cell to find out the answer!"
      ]
    },
    {
      "cell_type": "code",
      "source": [
        "toppings1 = ['oreos', 'chocolate sprinkles']\n",
        "toppings2 = ['caramel', 'peanuts']\n",
        "all_tops = toppings1 + toppings2\n",
        "print(all_tops)"
      ],
      "metadata": {
        "id": "u_xESAnaDERs"
      },
      "execution_count": null,
      "outputs": []
    },
    {
      "cell_type": "markdown",
      "source": [
        "<font color='red'>Exercise 3</font>  \n",
        "Now it's your turn to create and concatenate two lists. In the cell below:  \n",
        "* Create the variable `common_pets` and assign it a list of three pets that are common in the US. Same note as above: given that these pet types are strings, you'll need to surround each pet with quote marks.\n",
        "* Create the variable `uncommon_pets` and assign it a list of three less common pets. (Ditto about quote marks).\n",
        "* Create the variable `all_pets` and assign it the concatenation of `common_pets` and `uncommon_pets`.\n",
        "* Print `all_pets` to ensure that the new list looks like you expect it to."
      ],
      "metadata": {
        "id": "X7_qFCIhDK0V"
      }
    },
    {
      "cell_type": "code",
      "source": [
        ""
      ],
      "metadata": {
        "id": "zDmt8RR0DMOS"
      },
      "execution_count": null,
      "outputs": []
    },
    {
      "cell_type": "markdown",
      "metadata": {
        "id": "2KWtSZd3b1V2"
      },
      "source": [
        "### 3b. Making copies\n",
        "Similar to strings, multiple copies of a list can be created with the `*` operator. \n",
        "\n",
        "<font color='red'>Exercise 4</font>  \n",
        "In the cell below, you can see an example in which we create a new list called `double_tops` that contains two copies of `all_tops`. Before running the cell, ask yourself: What do you think `double_tops` will look like? Run the cell to find out if you're right!"
      ]
    },
    {
      "cell_type": "code",
      "metadata": {
        "id": "7TP6bJ8Jb1V2"
      },
      "source": [
        "double_tops = all_tops * 2\n",
        "print(double_tops)"
      ],
      "execution_count": null,
      "outputs": []
    },
    {
      "cell_type": "markdown",
      "source": [
        "<font color='red'>Exercise 5</font>  \n",
        "Now it's your turn to practice making copies. In the cell below, create a variable called `lots_of_pets` and assign it 5 copies of the `uncommon_pets` list from above. Print the new list. "
      ],
      "metadata": {
        "id": "ufV2bGCwDScu"
      }
    },
    {
      "cell_type": "code",
      "source": [
        ""
      ],
      "metadata": {
        "id": "BohiIccZDS7M"
      },
      "execution_count": null,
      "outputs": []
    },
    {
      "cell_type": "markdown",
      "metadata": {
        "id": "6QboUABjb1V4"
      },
      "source": [
        "### 3c. Min and max values in a list\n",
        "We can use the `min()` and `max()` functions on lists containing either numbers or strings (but not a mix of both).\n",
        "* For lists containing numbers, the min and max values are straightforward. \n",
        "* For lists containing strings, min and max refer to alphabetical order, such that the min value is the item that comes earliest in the alphabet, and the max value is the item that comes latest in the alphabet.\n",
        "\n",
        "<font color='red'>Exercise 6</font>  \n",
        "In the cell below, you can see examples of the `min()` and `max()` functions being applied to two different lists. Before running the cell, ask yourself: What do you think the result of each operation will be? Run the cell to find out if you're right!"
      ]
    },
    {
      "cell_type": "code",
      "metadata": {
        "id": "j2n3OOB5ThNh"
      },
      "source": [
        "# list of numbers\n",
        "prices = [2.99, 1.49, 9.99, 6.29]\n",
        "print(max(prices))\n",
        "\n",
        "# list of strings\n",
        "names = ['Natalia', 'Aurora', 'Isabella', 'Emilia']\n",
        "print(min(names))"
      ],
      "execution_count": null,
      "outputs": []
    },
    {
      "cell_type": "markdown",
      "source": [
        "<font color='red'>Exercise 7</font>  \n",
        "Now you try using the `min()` and `max()` functions! In the cell below:\n",
        "* Determine which of the pet types in `all_pets` appears latest in the alphabet. Be sure to print the result.\n",
        "* Determine which of the numbers in `odd_nums` has the lowest value. Be sure to print the result."
      ],
      "metadata": {
        "id": "QIOkS8OfDbLl"
      }
    },
    {
      "cell_type": "code",
      "source": [
        "# Pets\n",
        "\n",
        "\n",
        "# Odd numbers\n"
      ],
      "metadata": {
        "id": "GxtbXdGCDfU1"
      },
      "execution_count": null,
      "outputs": []
    },
    {
      "cell_type": "markdown",
      "metadata": {
        "id": "vD90OxBwb1V7"
      },
      "source": [
        "### 3d. Summing values in a list\n",
        "For lists containing numbers (i.e., integers and floats), you can use the `sum()` function to determine the sum of all values in the list. The syntax is simply\n",
        "`sum(list_name)`, such that you replace `list_name` with the relevant variable.\n",
        "\n",
        "<font color='red'>Exercise 8</font>  \n",
        "In the cell below, determine the sum of all the values in the `prices` list created in a previous exercise. Be sure to print the result."
      ]
    },
    {
      "cell_type": "code",
      "metadata": {
        "id": "07s99uR2b1V8"
      },
      "source": [
        ""
      ],
      "execution_count": null,
      "outputs": []
    },
    {
      "cell_type": "markdown",
      "metadata": {
        "id": "uwVGWU7Fb1V_"
      },
      "source": [
        "### 3e. Determining list length\n",
        "The function `len()` is used to determine the number of items in a list. Here again, the syntax is simple: `len(list_name)`.\n",
        "\n",
        "<font color='red'>Exercise 9</font>  \n",
        "In the cell below, determine the length of the list `lots_of_pets`. Be sure to print the result."
      ]
    },
    {
      "cell_type": "code",
      "metadata": {
        "id": "rUJ6W_PVUimu"
      },
      "source": [
        ""
      ],
      "execution_count": null,
      "outputs": []
    },
    {
      "cell_type": "markdown",
      "metadata": {
        "id": "H2igputGb1WD"
      },
      "source": [
        "### 3f. Checking the contents of a  list\n",
        "In the strings module, you learned about using `in` and `not in` to check the contents of a string. You can use these same commands to check whether an item is in or not in a list.\n",
        "\n",
        "For example, if we have the following list:\n",
        "\n",
        "`str_list = ['alpha', 'beta', 'gamma', 'delta', 'epsilon']`\n",
        "\n",
        "We could then check whether delta is in the list as follows:\n",
        "\n",
        "`'delta' in str_list`\n",
        "\n",
        "In this case, the result would be `True`.\n",
        "\n",
        "<font color='red'>Exercise 10</font>  \n",
        "Try it yourself! In the cell below:\n",
        "* Determine whether `'turtle'` is in the list `all_pets`, and be sure to print the result\n",
        "* Determine whether `'fudge'` is NOT in the list `all_tops`, and be sure to print the result"
      ]
    },
    {
      "cell_type": "code",
      "metadata": {
        "id": "ycmtk6ydVG4e"
      },
      "source": [
        "# Pets\n",
        "\n",
        "\n",
        "# Toppings\n"
      ],
      "execution_count": null,
      "outputs": []
    },
    {
      "cell_type": "markdown",
      "metadata": {
        "id": "Fy5ukzFrb1WF"
      },
      "source": [
        "### 3g. Indexing\n",
        "In a previous module, you learned that an item's index is its position in a larger sequence. Thus far, we've applied this concept to strings to select a character at a particular index. A few reminders:  \n",
        "\n",
        "* General syntax: `my_var[n]`, where `n` is an integer\n",
        "* Indexing starts with 0; to select the first item in a sequence, you would use `my_var[0]`\n",
        "* You can use negative indexing to select items at the end of a sequence; for example, `my_var[-2]` would give you the second to list item in the sequence\n",
        "\n",
        "All of the above holds true when it comes to indexing lists!\n",
        "\n",
        "<font color='red'>Exercise 11</font>  \n",
        "In the cell below, you'll see two examples of indexing the `names` list from above. As a reminder, the list contains the following:\n",
        "\n",
        "`names = ['Natalia', 'Aurora', 'Isabella', 'Emilia']`\n",
        "\n",
        "Before running the cell, ask yourself: What do you think the result of each operation will be? Run the cell to find out if you're right!"
      ]
    },
    {
      "cell_type": "code",
      "metadata": {
        "id": "OrKhw4AOV_A3"
      },
      "source": [
        "print(names[2])\n",
        "print(names[-3])"
      ],
      "execution_count": null,
      "outputs": []
    },
    {
      "cell_type": "markdown",
      "metadata": {
        "id": "OJeHSKze27Jw"
      },
      "source": [
        "<font color='red'>Exercise 12</font>  \n",
        "Using the `prices` list from above, use the indexing operator to determine: \n",
        "* The second item in the list, making sure to print the result (which should be 1.49)\n",
        "* The second-to-last item in the list, making sure to print the result (which should be 9.99)\n",
        "\n",
        "Note: There is more than one way to solve this exercise – you could use regular or negative indexing to achieve the same result."
      ]
    },
    {
      "cell_type": "code",
      "metadata": {
        "id": "EQdq4TyJb1WF"
      },
      "source": [
        "# Second\n",
        "\n",
        "\n",
        "# Second to last\n"
      ],
      "execution_count": null,
      "outputs": []
    },
    {
      "cell_type": "markdown",
      "metadata": {
        "id": "mzKRJt6Vb1WM"
      },
      "source": [
        "## 4. List properties\n",
        "One key way in which data types differ is their **mutability**. Mutable data types are those that can be changed or modified; immutable data types are those that can't be changed or modified.\n",
        "\n",
        "Lists are mutable! In other words, it's possible to create a list and then change its contents (e.g., replacing items, removing items, adding items). By contrast, strings are immutable, such that you *can't* change the characters in a string after creating it.\n",
        "\n",
        "For now, we'll stick with a simple example of modifying a list: replacing one item with another. This is accomplished using the indexing operator to indicate which item you want to replace, and the new value to replace it with. The syntax is as follows: `my_list[n] = x`, where `n` is an integer indicating the desired index, and `x` represents the new value.\n",
        "\n",
        "<font color='red'>Exercise 13</font>  \n",
        "In the cell below, you'll see a demonstration of list mutability. Before running the cell, ask yourself: What do you think the result will be? Run the cell to find out!"
      ]
    },
    {
      "cell_type": "code",
      "metadata": {
        "id": "lZe1v07T49Wh"
      },
      "source": [
        "# creating the list\n",
        "words = ['cat', 'hat', 'bat']\n",
        "print(words)\n",
        "\n",
        "# modifying the list\n",
        "words[0] = 'mat'\n",
        "print(words)"
      ],
      "execution_count": null,
      "outputs": []
    },
    {
      "cell_type": "markdown",
      "metadata": {
        "id": "Pq-__HMj4zRk"
      },
      "source": [
        "<font color='red'>Exercise 14</font>  \n",
        "Now it's your turn to explore list mutability. In the cell below, create a list called `lucky_nums` with three integers of your choosing. Print the list. Then, modify the list by replacing the first integer, and print the list again. Did you get the expected result?"
      ]
    },
    {
      "cell_type": "code",
      "metadata": {
        "id": "lcRUYszCb1WN"
      },
      "source": [
        "# create and print the list\n",
        "\n",
        "\n",
        "# modify and print the list\n"
      ],
      "execution_count": null,
      "outputs": []
    },
    {
      "cell_type": "markdown",
      "metadata": {
        "id": "G__5IdhD41R9"
      },
      "source": [
        "<font color='red'>Exercise 15</font>  \n",
        "What happens if we try to do something similar to a string, such that we replace one character with another? In the cell below, this is exactly what we attempt to do. As you'll see, this attempt causes a TypeError."
      ]
    },
    {
      "cell_type": "code",
      "metadata": {
        "id": "ZcdisLaab1WP"
      },
      "source": [
        "# creating the string\n",
        "word = 'word'\n",
        "print(word)\n",
        "\n",
        "# attempting to modify the string\n",
        "word[-1] = 'k'\n",
        "print(word)"
      ],
      "execution_count": null,
      "outputs": []
    },
    {
      "cell_type": "markdown",
      "metadata": {
        "id": "9-P65nGAv2Q8"
      },
      "source": [
        "Let's take a look at the error message to better understand what's happening. First, note that there is a green arrow pointing to line 6. This arrow tells you that line 6 is the one causing the error.\n",
        "\n",
        "Second, the error message says that strings do not support item assignment. In other words, you can't assign a single item (i.e., a character) in a string with a new value. Why? Strings are immutable! You can't change them."
      ]
    },
    {
      "cell_type": "markdown",
      "metadata": {
        "id": "w1Wj-XOVb1WX"
      },
      "source": [
        "## 5. Tuples  \n",
        "Time for a new data type! Tuples are similar to lists in that they contain a sequence of items separated by commas. Rather than being enclosed in square brackets, however, tuples are enclosed in parentheses. For example:\n",
        "```\n",
        "int_tuple = (1, 2, 3, 4, 5)\n",
        "str_tuple = ('hello', 'goodbye')\n",
        "```\n",
        "\n",
        "A key difference between lists and tuples is that tuples are immutable. As such, you *can't* use the indexing operator to make item substitutions in a tuple. Otherwise, all of the other list operations that you learned above can also be applied to tuples.  \n",
        " \n",
        "<font color='red'>Exercise 16</font>  \n",
        "To gain practice with which operations do and don't work with tuples, start by creating the variable `pres_tup` and assign it a tuple with the last names of the three most recent presidents. Then...\n",
        "* Determine the max value of the tuple, printing the result\n",
        "* Make a new list called `pres_double` that includes two copies of `pres_tup`, and then print the result\n",
        "* Attempt to replace one of the names in `pres_tup` with your own last name. Do you understand the error message?"
      ]
    },
    {
      "cell_type": "code",
      "metadata": {
        "id": "AsWHn_Egh8e2"
      },
      "source": [
        "# Create tuple\n"
      ],
      "execution_count": null,
      "outputs": []
    },
    {
      "cell_type": "code",
      "source": [
        "# Max value\n"
      ],
      "metadata": {
        "id": "S4WXLut_FJ8F"
      },
      "execution_count": null,
      "outputs": []
    },
    {
      "cell_type": "code",
      "source": [
        "# Double trouble\n"
      ],
      "metadata": {
        "id": "ZzmFuYdUFLam"
      },
      "execution_count": null,
      "outputs": []
    },
    {
      "cell_type": "code",
      "source": [
        "# Swap names\n"
      ],
      "metadata": {
        "id": "9M1X2Yl7FM-V"
      },
      "execution_count": null,
      "outputs": []
    },
    {
      "cell_type": "markdown",
      "metadata": {
        "id": "2TpJU702b1Wf"
      },
      "source": [
        "## Congrats, you're done! \n",
        "You've learned the basic functionality of lists and tuples, two very useful Python data types. In the next module, you'll learn about another very useful Python data type: dictionaries."
      ]
    }
  ]
}
