{
  "nbformat": 4,
  "nbformat_minor": 0,
  "metadata": {
    "kernelspec": {
      "display_name": "Python 3",
      "language": "python",
      "name": "python3"
    },
    "language_info": {
      "codemirror_mode": {
        "name": "ipython",
        "version": 3
      },
      "file_extension": ".py",
      "mimetype": "text/x-python",
      "name": "python",
      "nbconvert_exporter": "python",
      "pygments_lexer": "ipython3",
      "version": "3.7.1"
    },
    "colab": {
      "name": "Module6_lists_and_tuples_solutions.ipynb",
      "provenance": [],
      "collapsed_sections": [],
      "include_colab_link": true
    }
  },
  "cells": [
    {
      "cell_type": "markdown",
      "metadata": {
        "id": "view-in-github",
        "colab_type": "text"
      },
      "source": [
        "<a href=\"https://colab.research.google.com/github/JaimeAdele/APEX/blob/main/Module6_lists_and_tuples_solutions.ipynb\" target=\"_parent\"><img src=\"https://colab.research.google.com/assets/colab-badge.svg\" alt=\"Open In Colab\"/></a>"
      ]
    },
    {
      "cell_type": "markdown",
      "metadata": {
        "id": "Zhf5vzIRS9y6"
      },
      "source": [
        "<img src='https://images.pexels.com/photos/131979/pexels-photo-131979.jpeg?auto=compress&cs=tinysrgb&dpr=2&h=750&w=1260' width=700>  \n",
        "Photo by freestocks.org from Pexels\n"
      ]
    },
    {
      "cell_type": "markdown",
      "metadata": {
        "id": "1_Z_JpWjb1Vq"
      },
      "source": [
        "# APEX Faculty Training, Module 6 Solutions\n",
        "\n",
        "Created by Valerie Carr and Jaime Zuspann  \n",
        "Licensed under a Creative Commons license: CC BY-NC-SA  \n",
        "Last updated: Jan 22, 2022  \n"
      ]
    },
    {
      "cell_type": "markdown",
      "metadata": {
        "id": "0g8rWiFRneXu"
      },
      "source": [
        "## 2. List basics  \n",
        "<font color='red'>Exercise 1 solution</font>  \n",
        "* Create a list called `names` that contains several strings: Your first name, a family member's name, and an actor's first name. Note: given that these names are strings, you'll need to put quote marks around each individual name.\n",
        "* Create a list called `odd_nums` that contains several integers, specifically, odd numbers between 1-10.\n",
        "* Print each list.  \n",
        "\n",
        "Names will be different, but solution should be the same."
      ]
    },
    {
      "cell_type": "code",
      "metadata": {
        "id": "nKx3eaHsb1Vu"
      },
      "source": [
        "# List of names\n",
        "names = ['Anna', 'James', 'Ryan']\n",
        "\n",
        "# List of odd numbers\n",
        "odd_nums = [1, 3, 5, 7, 9]\n",
        "\n",
        "# Print\n",
        "print(names)\n",
        "print(odd_nums)"
      ],
      "execution_count": null,
      "outputs": []
    },
    {
      "cell_type": "markdown",
      "metadata": {
        "id": "_aB9Ulvzb1Vy"
      },
      "source": [
        "## 3. Operations with lists\n",
        "<font color='red'>Exercise 2 solution</font>   \n",
        "Run the cell to see the output of `all_tops`. Output is:  \n",
        "`['oreos', 'chocolate sprinkles', 'caramel', 'peanuts']`"
      ]
    },
    {
      "cell_type": "code",
      "source": [
        "toppings1 = ['oreos', 'chocolate sprinkles']\n",
        "toppings2 = ['caramel', 'peanuts']\n",
        "all_tops = toppings1 + toppings2\n",
        "print(all_tops)"
      ],
      "metadata": {
        "id": "yQMzBUNPsokX"
      },
      "execution_count": null,
      "outputs": []
    },
    {
      "cell_type": "markdown",
      "source": [
        "<font color='red'>Exercise 3 solution</font>  \n",
        "* Create the variable `common_pets` and assign it a list of three pets that are common in the US. Same note as above: given that these pet types are strings, you'll need to surround each pet with quote marks.\n",
        "* Create the variable `uncommon_pets` and assign it a list of three less common pets. (Ditto about quote marks).\n",
        "* Create the variable `all_pets` and assign it the concatenation of `common_pets` and `uncommon_pets`.\n",
        "* Print `all_pets` to ensure that the new list looks like you expect it to.  \n",
        "\n",
        "The pets may be different but the solution should be the same."
      ],
      "metadata": {
        "id": "X7_qFCIhDK0V"
      }
    },
    {
      "cell_type": "code",
      "source": [
        "common_pets = ['cat', 'dog', 'goldfish']\n",
        "uncommon_pets = ['frog', 'hedgehog', 'chameleon']\n",
        "all_pets = common_pets + uncommon_pets\n",
        "print(all_pets)"
      ],
      "metadata": {
        "id": "zDmt8RR0DMOS"
      },
      "execution_count": null,
      "outputs": []
    },
    {
      "cell_type": "markdown",
      "metadata": {
        "id": "2KWtSZd3b1V2"
      },
      "source": [
        "<font color='red'>Exercise 4 solution</font>  \n",
        "Run the cell to see the output of `double_tops`. Output is:  \n",
        "`['oreos', 'chocolate sprinkles', 'caramel', 'peanuts', 'oreos', 'chocolate sprinkles', 'caramel', 'peanuts']`"
      ]
    },
    {
      "cell_type": "code",
      "source": [
        "double_tops = all_tops * 2\n",
        "print(double_tops)"
      ],
      "metadata": {
        "id": "ZUEgwyE-s-ny"
      },
      "execution_count": null,
      "outputs": []
    },
    {
      "cell_type": "markdown",
      "source": [
        "<font color='red'>Exercise 5 solution</font>  \n",
        "Create a variable called `lots_of_pets` and assign it 5 copies of the `uncommon_pets` list from above. Print the new list. "
      ],
      "metadata": {
        "id": "ufV2bGCwDScu"
      }
    },
    {
      "cell_type": "code",
      "source": [
        "lots_of_pets = uncommon_pets * 5\n",
        "print(lots_of_pets)"
      ],
      "metadata": {
        "id": "BohiIccZDS7M"
      },
      "execution_count": null,
      "outputs": []
    },
    {
      "cell_type": "markdown",
      "metadata": {
        "id": "6QboUABjb1V4"
      },
      "source": [
        "<font color='red'>Exercise 6 solution</font>  \n",
        "Run the cell to see the outputs. Outputs are:  \n",
        "`9.99`  \n",
        "`Aurora`"
      ]
    },
    {
      "cell_type": "code",
      "source": [
        "# list of numbers\n",
        "prices = [2.99, 1.49, 9.99, 6.29]\n",
        "print(max(prices))\n",
        "\n",
        "# list of strings\n",
        "names = ['Natalia', 'Aurora', 'Isabella', 'Emilia']\n",
        "print(min(names))"
      ],
      "metadata": {
        "id": "PD4Cf9LetKSN"
      },
      "execution_count": null,
      "outputs": []
    },
    {
      "cell_type": "markdown",
      "source": [
        "<font color='red'>Exercise 7 solution</font>  \n",
        "* Determine which of the pet types in `all_pets` appears latest in the alphabet. Print the result.\n",
        "* Determine which of the numbers in `odd_nums` has the lowest value. Print the result."
      ],
      "metadata": {
        "id": "QIOkS8OfDbLl"
      }
    },
    {
      "cell_type": "code",
      "source": [
        "# Pets\n",
        "print(max(all_pets))\n",
        "\n",
        "# Odd numbers\n",
        "print(min(odd_nums))"
      ],
      "metadata": {
        "id": "GxtbXdGCDfU1"
      },
      "execution_count": null,
      "outputs": []
    },
    {
      "cell_type": "markdown",
      "metadata": {
        "id": "vD90OxBwb1V7"
      },
      "source": [
        "<font color='red'>Exercise 8 solution</font>  \n",
        "Determine the sum of all the values in the `prices` list created in a previous exercise. Print the result."
      ]
    },
    {
      "cell_type": "code",
      "metadata": {
        "id": "07s99uR2b1V8"
      },
      "source": [
        "print(sum(prices))"
      ],
      "execution_count": null,
      "outputs": []
    },
    {
      "cell_type": "markdown",
      "metadata": {
        "id": "uwVGWU7Fb1V_"
      },
      "source": [
        "<font color='red'>Exercise 9 solution</font>  \n",
        "Determine the length of the list `lots_of_pets`. Print the result."
      ]
    },
    {
      "cell_type": "code",
      "metadata": {
        "id": "rUJ6W_PVUimu"
      },
      "source": [
        "print(len(lots_of_pets))"
      ],
      "execution_count": null,
      "outputs": []
    },
    {
      "cell_type": "markdown",
      "metadata": {
        "id": "H2igputGb1WD"
      },
      "source": [
        "<font color='red'>Exercise 10 solution</font>  \n",
        "* Determine whether `'turtle'` is in the list `all_pets`, and print the result\n",
        "* Determine whether `'fudge'` is NOT in the list `all_tops`, and print the result"
      ]
    },
    {
      "cell_type": "code",
      "metadata": {
        "id": "ycmtk6ydVG4e"
      },
      "source": [
        "# Pets\n",
        "print('turtle' in all_pets)\n",
        "\n",
        "# Toppings\n",
        "print('fudge' not in all_tops)"
      ],
      "execution_count": null,
      "outputs": []
    },
    {
      "cell_type": "markdown",
      "metadata": {
        "id": "Fy5ukzFrb1WF"
      },
      "source": [
        "<font color='red'>Exercise 11 solution</font>  \n",
        "Run the cell to see the outputs. Outputs are:  \n",
        "`Isabella`  \n",
        "`Aurora`"
      ]
    },
    {
      "cell_type": "code",
      "source": [
        "print(names[2])\n",
        "print(names[-3])"
      ],
      "metadata": {
        "id": "GF1aEB3ot1MP"
      },
      "execution_count": null,
      "outputs": []
    },
    {
      "cell_type": "markdown",
      "metadata": {
        "id": "OJeHSKze27Jw"
      },
      "source": [
        "<font color='red'>Exercise 12</font>  \n",
        "Using the `prices` list from above, use the indexing operator to determine: \n",
        "* The second item in the list, making sure to print the result (which should be 1.49)\n",
        "* The second-to-last item in the list, making sure to print the result (which should be 9.99)\n",
        "\n",
        "Note: There is more than one way to solve this exercise – you could use regular or negative indexing to achieve the same result."
      ]
    },
    {
      "cell_type": "code",
      "metadata": {
        "id": "EQdq4TyJb1WF"
      },
      "source": [
        "# Second\n",
        "print(prices[1])\n",
        "\n",
        "# Second to last\n",
        "print(prices[-2])"
      ],
      "execution_count": null,
      "outputs": []
    },
    {
      "cell_type": "markdown",
      "metadata": {
        "id": "mzKRJt6Vb1WM"
      },
      "source": [
        "## 4. List properties\n",
        "<font color='red'>Exercise 13 solution</font>  \n",
        "Run the cell to see the outputs. Outputs are:  \n",
        "`['cat', 'hat', 'bat']`  \n",
        "`['mat', 'hat', 'bat']`"
      ]
    },
    {
      "cell_type": "code",
      "source": [
        "# creating the list\n",
        "words = ['cat', 'hat', 'bat']\n",
        "print(words)\n",
        "\n",
        "# modifying the list\n",
        "words[0] = 'mat'\n",
        "print(words)"
      ],
      "metadata": {
        "id": "RmuenFEjuL4u"
      },
      "execution_count": null,
      "outputs": []
    },
    {
      "cell_type": "markdown",
      "metadata": {
        "id": "Pq-__HMj4zRk"
      },
      "source": [
        "<font color='red'>Exercise 14 solution</font>  \n",
        "Create a list called `lucky_nums` with three integers of your choosing. Print the list. Then, modify the list by replacing the first integer, and print the list again.  \n",
        "The numbers may be different, but the structure should be the same."
      ]
    },
    {
      "cell_type": "code",
      "metadata": {
        "id": "lcRUYszCb1WN"
      },
      "source": [
        "# create the list\n",
        "lucky_nums = [4, 12, 17]\n",
        "\n",
        "# modify the list\n",
        "lucky_nums[0] = 3\n",
        "print(lucky_nums)"
      ],
      "execution_count": null,
      "outputs": []
    },
    {
      "cell_type": "markdown",
      "metadata": {
        "id": "G__5IdhD41R9"
      },
      "source": [
        "<font color='red'>Exercise 15 solution</font>  \n",
        "Run the cell to see that a TypeError occurs when you attempt to change a string."
      ]
    },
    {
      "cell_type": "code",
      "source": [
        "# creating the string\n",
        "word = 'word'\n",
        "print(word)\n",
        "\n",
        "# attempting to modify the string\n",
        "word[-1] = 'k'\n",
        "print(word)"
      ],
      "metadata": {
        "id": "gK1agBxkuYgy"
      },
      "execution_count": null,
      "outputs": []
    },
    {
      "cell_type": "markdown",
      "metadata": {
        "id": "w1Wj-XOVb1WX"
      },
      "source": [
        "## 5. Tuples  \n",
        "<font color='red'>Exercise 16 solution</font>  \n",
        "Start by creating the variable `pres_tup` and assign it a tuple with the last names of the three most recent presidents. Then...\n",
        "* Determine the max value of the tuple, printing the result\n",
        "* Make a new list called `pres_double` that includes two copies of `pres_tup`, and then print the result\n",
        "* Attempt to replace one of the names in `pres_tup` with your own last name.  \n",
        "\n",
        "When you run the cell, you'll receive a TypeError for attempting to change a value in a tuple."
      ]
    },
    {
      "cell_type": "code",
      "metadata": {
        "id": "AsWHn_Egh8e2"
      },
      "source": [
        "# Create tuple\n",
        "pres_tup = ('Biden', 'Trump', 'Obama')"
      ],
      "execution_count": null,
      "outputs": []
    },
    {
      "cell_type": "code",
      "source": [
        "# Max value\n",
        "print(max(pres_tup))"
      ],
      "metadata": {
        "id": "S4WXLut_FJ8F"
      },
      "execution_count": null,
      "outputs": []
    },
    {
      "cell_type": "code",
      "source": [
        "# Double trouble\n",
        "pres_double = pres_tup * 2\n",
        "print(pres_double)"
      ],
      "metadata": {
        "id": "ZzmFuYdUFLam"
      },
      "execution_count": null,
      "outputs": []
    },
    {
      "cell_type": "code",
      "source": [
        "# Swap names\n",
        "pres_tup[0] = 'Smith'"
      ],
      "metadata": {
        "id": "9M1X2Yl7FM-V"
      },
      "execution_count": null,
      "outputs": []
    }
  ]
}
