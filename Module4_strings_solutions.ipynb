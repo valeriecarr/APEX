{
  "nbformat": 4,
  "nbformat_minor": 0,
  "metadata": {
    "kernelspec": {
      "display_name": "Python 3",
      "language": "python",
      "name": "python3"
    },
    "language_info": {
      "codemirror_mode": {
        "name": "ipython",
        "version": 3
      },
      "file_extension": ".py",
      "mimetype": "text/x-python",
      "name": "python",
      "nbconvert_exporter": "python",
      "pygments_lexer": "ipython3",
      "version": "3.7.1"
    },
    "colab": {
      "name": "Module4_strings_solutions.ipynb",
      "provenance": [],
      "collapsed_sections": [],
      "include_colab_link": true
    }
  },
  "cells": [
    {
      "cell_type": "markdown",
      "metadata": {
        "id": "view-in-github",
        "colab_type": "text"
      },
      "source": [
        "<a href=\"https://colab.research.google.com/github/JaimeAdele/APEX/blob/main/Module4_strings_solutions.ipynb\" target=\"_parent\"><img src=\"https://colab.research.google.com/assets/colab-badge.svg\" alt=\"Open In Colab\"/></a>"
      ]
    },
    {
      "cell_type": "markdown",
      "metadata": {
        "id": "tcP2h0QW0A6X"
      },
      "source": [
        "<img src='https://images.pexels.com/photos/247819/pexels-photo-247819.jpeg?w=700&h=250&fit=crop' height=300px witdth=700px>  \n",
        "Photo by Wokandapix from Pixabay"
      ]
    },
    {
      "cell_type": "markdown",
      "metadata": {
        "id": "L3vFn9_lzweJ"
      },
      "source": [
        "# APEX Faculty Training, Module 4: Strings Solutions\n",
        "Created by Valerie Carr and Jaime Zuspann  \n",
        "Licensed under a Creative Commons license: CC BY-NC-SA  \n",
        "Last updated: Dec 14, 2021  "
      ]
    },
    {
      "cell_type": "markdown",
      "metadata": {
        "id": "92XS6HDw3dtR"
      },
      "source": [
        "## 3. Determining data type\n",
        "<font color='red'>Exercise 1 solution</font>  \n",
        "Run the cells to see each output. They are, respectively:  \n",
        "`int`  \n",
        "`float`  \n",
        "`bool`  \n",
        "`int`"
      ]
    },
    {
      "cell_type": "code",
      "source": [
        "type(2000)"
      ],
      "metadata": {
        "id": "CtVAz_4qWuCe"
      },
      "execution_count": null,
      "outputs": []
    },
    {
      "cell_type": "code",
      "source": [
        "type(3.14 * 2)"
      ],
      "metadata": {
        "id": "oz56fBcIWylP"
      },
      "execution_count": null,
      "outputs": []
    },
    {
      "cell_type": "code",
      "source": [
        "type(False)"
      ],
      "metadata": {
        "id": "YyXxMPOFWwlR"
      },
      "execution_count": null,
      "outputs": []
    },
    {
      "cell_type": "code",
      "source": [
        "a = 6 * 4\n",
        "type(a)"
      ],
      "metadata": {
        "id": "CE33yHsTWu1h"
      },
      "execution_count": null,
      "outputs": []
    },
    {
      "cell_type": "markdown",
      "metadata": {
        "id": "xteTOWiezweK"
      },
      "source": [
        "<font color='red'>Exercise 2 solution</font>  \n",
        "Use the `type()` function to determine the data type for the value assigned to `answer`."
      ]
    },
    {
      "cell_type": "code",
      "metadata": {
        "id": "loYySOlczweL"
      },
      "source": [
        "answer = 'yes'\n",
        "type(answer)"
      ],
      "execution_count": null,
      "outputs": []
    },
    {
      "cell_type": "markdown",
      "metadata": {
        "id": "_vYLpuqNzweY"
      },
      "source": [
        "## 4. String basics  \n",
        "<font color='red'>Exercise 3 solutions</font>   \n",
        "Use the `type()` function on the values in the cells below. In other words, put the values below inside the parentheses of the `type()` function."
      ]
    },
    {
      "cell_type": "code",
      "metadata": {
        "id": "odVJJoviuHAI"
      },
      "source": [
        "type(13.2)"
      ],
      "execution_count": null,
      "outputs": []
    },
    {
      "cell_type": "code",
      "metadata": {
        "id": "GS28keRruJe_"
      },
      "source": [
        "type('13.2')"
      ],
      "execution_count": null,
      "outputs": []
    },
    {
      "cell_type": "markdown",
      "source": [
        "<font color='red'>Exercise 4</font>  \n",
        "Run both of the cells below to see that you'll receive a TypeError when you try to divide a string in the second cell."
      ],
      "metadata": {
        "id": "7xtkQnEcXrMd"
      }
    },
    {
      "cell_type": "code",
      "source": [
        "13.2 / 2"
      ],
      "metadata": {
        "id": "_PZTIcUsX8IZ"
      },
      "execution_count": null,
      "outputs": []
    },
    {
      "cell_type": "code",
      "source": [
        "'13.2' / 2"
      ],
      "metadata": {
        "id": "8gFv93T-X8iV"
      },
      "execution_count": null,
      "outputs": []
    },
    {
      "cell_type": "markdown",
      "metadata": {
        "id": "1lSVA2Abqojm"
      },
      "source": [
        "<font color='red'>Exercise 5 possible solution</font>  \n",
        "Assign the variable `fav_drink` the name of your favorite type of drink (coffee, tea, boba, etc.), but don't use quotes around the drink name. Run the cell and see what happens.  \n",
        "Note: You may have a different favorite drink, but there should not be quote marks surrounding it (the intention of this exercise is to get a NameError)."
      ]
    },
    {
      "cell_type": "code",
      "metadata": {
        "id": "tW9Lmjd-zweZ"
      },
      "source": [
        "fav_drink = smoothie"
      ],
      "execution_count": null,
      "outputs": []
    },
    {
      "cell_type": "markdown",
      "metadata": {
        "id": "75BVOVVudE5x"
      },
      "source": [
        "## 5. Printing strings  \n",
        "<font color='red'>Exercise 6 solution</font>  \n",
        "Insert a new line beneath the string and use the `print()` function to print `econ`. Note the difference between the input (with quotes) and output (no quotes)."
      ]
    },
    {
      "cell_type": "code",
      "metadata": {
        "id": "Ndidu8Bbzwec"
      },
      "source": [
        "econ = 'An abbreviation for economics is econ'\n",
        "print(econ)"
      ],
      "execution_count": null,
      "outputs": []
    },
    {
      "cell_type": "markdown",
      "metadata": {
        "id": "SpEbfLSsvAbW"
      },
      "source": [
        "## 6. Comparison operators: Equality and inequality  \n",
        "<font color='red'>Exercise 7 solution</font>   \n",
        "Run the cells to see each output. The first is assignment, which returns no output. The next are, respectively:  \n",
        "`True`  \n",
        "`False`"
      ]
    },
    {
      "cell_type": "code",
      "source": [
        "# assign a value\n",
        "my_string = 'hello'"
      ],
      "metadata": {
        "id": "M2O1OehdYjyQ"
      },
      "execution_count": null,
      "outputs": []
    },
    {
      "cell_type": "code",
      "source": [
        "# test for equality\n",
        "my_string == 'hello'"
      ],
      "metadata": {
        "id": "cLg3bSDcYlVz"
      },
      "execution_count": null,
      "outputs": []
    },
    {
      "cell_type": "code",
      "source": [
        "# test for inequality\n",
        "my_string != 'hello'"
      ],
      "metadata": {
        "id": "ar5VCCxHYoEO"
      },
      "execution_count": null,
      "outputs": []
    },
    {
      "cell_type": "markdown",
      "metadata": {
        "id": "d0gjyNkqvHsv"
      },
      "source": [
        "<font color='red'>Exercise 8 possible solutions</font>   In the cell below, create the variable `fav_band1` and assign it a string of your current favorite band. In the same cell, start a new line and create the variable `fav_band2`, then assign it the name of your favorite band when you were in middle school.  \n",
        "Note: Your favorite bands may be different, but the structure of the solution should be the same as below."
      ]
    },
    {
      "cell_type": "code",
      "metadata": {
        "id": "8d-XZMervJ0o"
      },
      "source": [
        "# Current favorite band\n",
        "fav_band1 = 'Led Zeppelin'\n",
        "\n",
        "# Favorite band in middle school\n",
        "fav_band2 = 'The Beatles'"
      ],
      "execution_count": null,
      "outputs": []
    },
    {
      "cell_type": "code",
      "metadata": {
        "id": "Oie8_iL8vN2k"
      },
      "source": [
        "# Has your favorite band stayed the same?\n",
        "fav_band1 == fav_band2"
      ],
      "execution_count": null,
      "outputs": []
    },
    {
      "cell_type": "markdown",
      "metadata": {
        "id": "s1qny-WHvRkW"
      },
      "source": [
        "<font color='red'>Exercise 9 solution</font>  \n",
        "Below, write code to determine whether the strings `dog` and `Dog` are equivalent. "
      ]
    },
    {
      "cell_type": "code",
      "metadata": {
        "id": "qyh_CZUxvTcS"
      },
      "source": [
        "'dog' == 'Dog'"
      ],
      "execution_count": null,
      "outputs": []
    },
    {
      "cell_type": "markdown",
      "metadata": {
        "id": "1JrH4q_avVuK"
      },
      "source": [
        "## 7. Comparison operators: Less than and greater than  \n",
        "<font color='red'>Exercise 10 possible solution</font>  \n",
        "Create the variable `fav_book` and assign it your favorite book as a string. In the same cell, start a new line and create the variable `fav_movie`, and then assign it your favorite movie as a string.  \n",
        "Note: Your favorite book and movie may be different, but the structure of the solution should be the same as below."
      ]
    },
    {
      "cell_type": "code",
      "metadata": {
        "id": "pEWdTzefvZE0"
      },
      "source": [
        "# Favorite book\n",
        "fav_book = 'Crime and Punishment'\n",
        "\n",
        "# Favorite movie\n",
        "fav_movie = 'Life is Beautiful'"
      ],
      "execution_count": null,
      "outputs": []
    },
    {
      "cell_type": "code",
      "metadata": {
        "id": "MBvSI5x0vdan"
      },
      "source": [
        "# Does fav_book appear after fav_movie in the alphabet?\n",
        "fav_book > fav_movie"
      ],
      "execution_count": null,
      "outputs": []
    }
  ]
}
