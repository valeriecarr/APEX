{
  "nbformat": 4,
  "nbformat_minor": 0,
  "metadata": {
    "kernelspec": {
      "display_name": "Python 3",
      "language": "python",
      "name": "python3"
    },
    "language_info": {
      "codemirror_mode": {
        "name": "ipython",
        "version": 3
      },
      "file_extension": ".py",
      "mimetype": "text/x-python",
      "name": "python",
      "nbconvert_exporter": "python",
      "pygments_lexer": "ipython3",
      "version": "3.7.1"
    },
    "colab": {
      "name": "welcome_to_colab_students.ipynb",
      "provenance": [],
      "collapsed_sections": [],
      "include_colab_link": true
    }
  },
  "cells": [
    {
      "cell_type": "markdown",
      "metadata": {
        "id": "view-in-github",
        "colab_type": "text"
      },
      "source": [
        "<a href=\"https://colab.research.google.com/github/valeriecarr/APEX/blob/main/welcome_to_colab_students.ipynb\" target=\"_parent\"><img src=\"https://colab.research.google.com/assets/colab-badge.svg\" alt=\"Open In Colab\"/></a>"
      ]
    },
    {
      "cell_type": "markdown",
      "metadata": {
        "id": "hgZVXKidRoRT"
      },
      "source": [
        "![picture](https://images.pexels.com/photos/7191994/pexels-photo-7191994.jpeg?auto=compress&cs=tinysrgb&dpr=2&w=700&h=250&fit=crop)  \n",
        "Photo by SHVETS production from Pexels\n"
      ]
    },
    {
      "cell_type": "markdown",
      "metadata": {
        "id": "SdOKjwrynhF7"
      },
      "source": [
        "# Welcome to Colab!\n",
        "Materials created by Valerie Carr and Jaime Zuspann  \n",
        "Licensed under a Creative Commons license: CC BY-NC-SA   \n",
        "Last updated: April 27, 2022  \n",
        "\n",
        "## 0. Start here\n",
        "\n",
        "You're probably already familiar with Google tools like Docs, Sheets, and Slides. **Colab** (pronounced \"CO-lab\") is yet another Google tool, and its purpose is to allow users to write and run code in a programming language called Python. Colab files are called \"notebooks.\" As you can see by scrolling through this file, notebooks typically contain a mix of text (e.g., instructions) and Python code. \n",
        "\n",
        "The purpose of this notebook is to introduce you to Colab and make you feel comfortable using this tool so that you're ready to get started with the fun stuff in your next class session. Please see below for a list of learning outcomes, and note that this notebook will be organized in the same order: \n",
        "\n",
        "1. Learn how to make your own, editable copy of a Colab notebook\n",
        "2. Learn about the two types of cells in a Colab notebook (text vs. code)\n",
        "3. Learn how to obtain a link to your Colab notebook, which can be used to submit assignments on Canvas"
      ]
    },
    {
      "cell_type": "markdown",
      "metadata": {
        "id": "2Kjl_d_Pdxrw"
      },
      "source": [
        "## 1. Make your own copy\n",
        "This notebook is \"view only,\" meaning that you can view it, but you can't save any changes. To create your own editable copy, look towards the top of the notebook and click on `Copy to Drive`. This will cause a new tab to open with your own personal copy of the notebook. \n",
        "\n",
        "If you want to refer back to your copy in the future, you can find it in Google Drive in a folder called `Colab Notebooks`. Specifically, your copy of this notebook will be called: \"Copy of welcome to colab.ipynb\"\n",
        "\n",
        "To open your copy in the future, you can simply double click on it, which will cause it to open in your browser window."
      ]
    },
    {
      "cell_type": "markdown",
      "metadata": {
        "id": "2JRigyfbnhF8"
      },
      "source": [
        "## 2. Cell types in Colab\n",
        "As noted above, Colab allows you to combine both text and Python code in the same notebook. Each of these different elements is called a **cell**. \n",
        "* What you're reading right now is a *text cell*, i.e., it's filled with text and doesn't include Python code\n",
        "* Cells that contain Python code are apporiately called *code cells*\n",
        "\n",
        "Below are a few exercises that will allow you to become more familiar with each type of cell."
      ]
    },
    {
      "cell_type": "markdown",
      "metadata": {
        "id": "wuYFNB77nhF8"
      },
      "source": [
        "### 2a. Text cells\n",
        "Just like you can edit text in a Google Doc, you can also edit text within a Colab notebook. Exercise 1 will walk you through this process.\n",
        "\n",
        "<font color='red'>Exercise 1</font>    \n",
        "* Double click on this cell. If everything suddenly looks very different, you're doing it right!\n",
        "* The text cell is now in \"edit\" mode, and you'll see that it's divided in two. When editing a cell, you'll type on the left side, and the right side will show you a preview of how things will look once you're no longer in edit mode\n",
        "* Speaking of which, let's learn how to leave edit mode. On your keyboard, hit the following keys at the same time (i.e., simultaneously): Shift and Enter.\n",
        "\n",
        "Congrats, now you know how to enter and leave edit mode!\n",
        "* To enter edit mode, simply double click on the cell\n",
        "* To leave edit mode, hit Shift and Enter at the same time"
      ]
    },
    {
      "cell_type": "markdown",
      "source": [
        "<font color='red'>Exercise 2</font>    \n",
        "Your next step will be to actually edit the cell by adding some new text. This is an important skill to learn, because you may come across questions in future notebooks that your instructor would like you to answer. \n",
        "\n",
        "* Double click on this cell to enter edit mode\n",
        "* Below these instructions, type the answer to the following question: What's the last TV show that you watched, and what genre does it fall under (e.g., comedy, drama, reality tv, etc.)?\n",
        "* Once you're done, hit Shift and Enter to leave edit mode\n",
        "\n",
        "Congrats, now you know how to answer a question within a text cell!\n",
        "\n"
      ],
      "metadata": {
        "id": "qpLJ-tZ-gCG9"
      }
    },
    {
      "cell_type": "markdown",
      "metadata": {
        "collapsed": true,
        "id": "4GVZUR-knhGA"
      },
      "source": [
        "### 2b. Code cells\n",
        "For today's notebook, we'll keep things super simple and use Python like a calculator. In other words, you don't need to know any Python in order to complete these exercises. First, though we'll teach you how to execute or \"run\" a code cell, and then we'll teach you how to edit a code cell.\n",
        "\n",
        "<font color='red'>Exercise 3</font>    \n",
        "The two code cells below (which look like gray rectangles) contain simple mathematical expressions. Note that Python uses the same symbols for math that you're likely already used to. For example, Python uses `+` for addition, `-` for subtraction, `*` for multiplication, and `/` for division. \n",
        "\n",
        "How do we run these code cells to see the result of our calculations? There are two ways, and you can try them both by following the instructions below:\n",
        "* Single click on the *first* code cell below. When you do, you'll see a \"play\" symbol appear to the left of the cell. Simply click on the play symbol and wait a second or two for the answer to pop up below the cell.\n",
        "* Another option for running a code cell is to use the same combination of keys that you learned above. Single click on the *second* cell below, and then hit Shift and Enter at the same time. You should see the result below the cell.\n",
        "\n",
        "Congrats, now you know how to run a code cell!"
      ]
    },
    {
      "cell_type": "code",
      "source": [
        "5 * 2"
      ],
      "metadata": {
        "id": "YaXi6YsBiAsO"
      },
      "execution_count": null,
      "outputs": []
    },
    {
      "cell_type": "code",
      "source": [
        "9 - 6"
      ],
      "metadata": {
        "id": "QMAdjL2ZjMC_"
      },
      "execution_count": null,
      "outputs": []
    },
    {
      "cell_type": "markdown",
      "metadata": {
        "id": "PGKDsDC2eh-w"
      },
      "source": [
        "<font color='red'>Exercise 4</font>  \n",
        "Note that code cells can also contain **comments**, which are lines of text that are *not* evaluated as code. Comments are used to write brief notes about the code contained inside the cell, and they are preceded by the `#` symbol. In the example below I've included a comment as well as a simple calculation. \n",
        "\n",
        "Run the cell (using your choice of approach) to see what happens when a comment is included. The short answer is: the comment has no effect on the code itself! It's simply a note, and not actual code.\n",
        "\n",
        "Congrats, now you know the difference between comments and code!"
      ]
    },
    {
      "cell_type": "code",
      "metadata": {
        "id": "2VZRVRfcnhGF"
      },
      "source": [
        "# This is a comment\n",
        "10 + 2"
      ],
      "execution_count": null,
      "outputs": []
    },
    {
      "cell_type": "markdown",
      "metadata": {
        "id": "ffBjaTBSnhGI"
      },
      "source": [
        "<font color='red'>Exercise 5</font>    \n",
        "The cell below doesn't yet contain any code, so your job in this exercise is as follows:\n",
        "* Click on the cell\n",
        "* Write a mathematical expression of your choosing\n",
        "* Run the cell to see the result\n",
        "\n",
        "Congrats, now you know how to add code to a code cell!"
      ]
    },
    {
      "cell_type": "code",
      "source": [
        "# Test your own code\n"
      ],
      "metadata": {
        "id": "PLg2teI4kQeM"
      },
      "execution_count": null,
      "outputs": []
    },
    {
      "cell_type": "markdown",
      "metadata": {
        "id": "Rmks3Xs5nhGK"
      },
      "source": [
        "## 3. Obtain a link to your completed notebook\n",
        "It's very likely that your instructor may ask you to submit this notebook (or future notebooks) as part of a class assignment on Canvas. Thankfully, there are only a few small steps you need to take in order to submit your completed work.\n",
        "\n",
        "Similar to other Google products, you can obtain a shareable link to this notebook. The only tricky part is making sure that you set the sharing permissions so that your instructor is able to see and edit your document. The ability to edit is key so that your instructor can leave comments or make corrections.\n",
        "\n",
        "<font color='red'>Exercise 6</font>  \n",
        "Follow the steps below to get a shareable link appropriate for Canvas:\n",
        "* In the upper right of the screen, click on the button that says \"Share\"\n",
        "* In the resulting pop-up window, look towards the lower portion that says \"Get link\"\n",
        "* There are **two** things that you need to change:\n",
        "    * On the left, you'll see that your notebook is currently restricted. Click on the blue link underneath the word \"restricted\" to make the necessary changes.\n",
        "    * You should now see two dropdown menus. Click the one on the left and select \"Anyone with the link\"\n",
        "    * Next, click the dropdown on the right and select \"Editor\"\n",
        "* Now, you're sharing permissions are correct and your link is ready! Simply click \"Copy link\" and paste it into the relevant spot on Canvas.\n"
      ]
    },
    {
      "cell_type": "markdown",
      "metadata": {
        "id": "6cQ9mSxICucc"
      },
      "source": [
        "## All done!\n",
        "You now know the basics of using Google Colab!"
      ]
    }
  ]
}