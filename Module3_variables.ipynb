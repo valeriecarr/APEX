{
  "nbformat": 4,
  "nbformat_minor": 0,
  "metadata": {
    "kernelspec": {
      "display_name": "Python 3",
      "language": "python",
      "name": "python3"
    },
    "language_info": {
      "codemirror_mode": {
        "name": "ipython",
        "version": 3
      },
      "file_extension": ".py",
      "mimetype": "text/x-python",
      "name": "python",
      "nbconvert_exporter": "python",
      "pygments_lexer": "ipython3",
      "version": "3.7.1"
    },
    "colab": {
      "name": "Module3_variables.ipynb",
      "provenance": [],
      "collapsed_sections": [
        "-DFmkSC3DcrF",
        "mMoSrg_5DcrP",
        "CZws-TYVDcrP",
        "6eF88P1PDcrV",
        "whNRxjERDcrZ",
        "P_FORhr1Dcrd",
        "1XOrdHJLDcri",
        "tAI7cCJSDcrk"
      ],
      "include_colab_link": true
    }
  },
  "cells": [
    {
      "cell_type": "markdown",
      "metadata": {
        "id": "view-in-github",
        "colab_type": "text"
      },
      "source": [
        "<a href=\"https://colab.research.google.com/github/JaimeAdele/APEX/blob/main/Module3_variables.ipynb\" target=\"_parent\"><img src=\"https://colab.research.google.com/assets/colab-badge.svg\" alt=\"Open In Colab\"/></a>"
      ]
    },
    {
      "cell_type": "markdown",
      "metadata": {
        "id": "d4RBrWC-jk0h"
      },
      "source": [
        "<img src='https://cdn.pixabay.com/photo/2017/01/12/21/19/search-1975707_1280.jpg' width=700>  \n",
        "Photo by damirbelavic from Pixabay"
      ]
    },
    {
      "cell_type": "markdown",
      "metadata": {
        "id": "U2VoRlVpDcqd"
      },
      "source": [
        "# APEX Faculty Training, Module 3: Variables\n",
        "\n",
        "Created by Valerie Carr and Jaime Zuspann  \n",
        "Licensed under a Creative Commons license: CC BY-NC-SA  \n",
        "Last updated: Dec 5, 2021  \n",
        "\n",
        "**Learning outcomes**  \n",
        "* To practice assigning values to variables and using variables in expressions\n",
        "* To become familiar with variable-naming rules and style preferences"
      ]
    },
    {
      "cell_type": "markdown",
      "metadata": {
        "id": "YmLWJKQSDcqe"
      },
      "source": [
        "## 1. A couple notes before you start \n",
        "* This file is view only, meaning that you can't edit it.\n",
        "    * To create an editable copy, look towards the top of the notebook and click on `Copy to Drive`. This will cause a new tab to open with your own personal copy.\n",
        "    * If you want to refer back to your copy in the future, you can find it in Google Drive in a folder called `Colab Notebooks`.\n",
        "* To run a cell, use `shift` + `enter`.  \n"
      ]
    },
    {
      "cell_type": "markdown",
      "metadata": {
        "id": "BXnvX8m8clXv"
      },
      "source": [
        "## 2. Assigning values to variables \n",
        "In Python (and other programming languages, too!), it's helpful to store values for later use. To store a value, we need to assign it to a variable.  \n",
        "  \n",
        "You can think of a variable like a box that you keep in your closet. You can drop a value into the box to store it for later, and you can also change what's being stored in the box.\n",
        "\n",
        "Here's an example of assigning a value to a variable:  \n",
        "`variable_name = 17`  \n",
        "  \n",
        "The most important rule to remember when assigning a value to a variable is as follows:  \n",
        "* The variable name always comes **first**, followed by an equal sign and then the value  \n",
        "  \n",
        "A common mistake among students is to write the value first, which will cause a Syntax Error (i.e., an error that you've violated the \"grammar\" rules of Python). \n",
        "\n",
        "<font color='red'>Exercise 1</font>  \n",
        "Read through the variable assignments in the cells below. One of these cells will cause an error – can you tell which one? Run each cell to determine whether you're right."
      ]
    },
    {
      "cell_type": "code",
      "metadata": {
        "id": "xFwSSGWb-bZC"
      },
      "source": [
        "x = 3"
      ],
      "execution_count": null,
      "outputs": []
    },
    {
      "cell_type": "code",
      "metadata": {
        "id": "GsXeLUgrpXbz"
      },
      "source": [
        "10 = toes"
      ],
      "execution_count": null,
      "outputs": []
    },
    {
      "cell_type": "code",
      "metadata": {
        "id": "3Shh8KoVOVoL"
      },
      "source": [
        "age = 20"
      ],
      "execution_count": null,
      "outputs": []
    },
    {
      "cell_type": "markdown",
      "metadata": {
        "id": "wMoDsQ6TpJRT"
      },
      "source": [
        "\n",
        "\n",
        "---\n",
        "\n",
        "\n",
        "#### <font color='blue'>Note:</font> Syntax Errors  \n",
        "As a reminder, a SyntaxError indicates you have violated Python's grammar rules. You and your students will become very familiar with this type of error when first learning how to code. It'll be frustrating and you may feel lost at first. But, with repeated practice, things will start to click and you'll more readily understand why you're receiving this error!\n",
        "\n",
        "\n",
        "---\n",
        "\n"
      ]
    },
    {
      "cell_type": "markdown",
      "metadata": {
        "id": "aw04Rfc2pisf"
      },
      "source": [
        "You may have noticed that for the first and third cells, there was no output. Indeed, assigning a value to a variable doesn't produce any output. However, you can check if a given value was assigned properly using the `print()` function. In brief, whatever you put inside the parentheses of the `print()` function will be shown as output underneath the cell.\n",
        "\n",
        "<font color='red'>Exercise 2</font>  \n",
        "Run the first cell below, in which we've shown you how to print the value assigned to `x`. Then, in the cell beneath it, write your own code to print the value assigned to `age`, and run the cell."
      ]
    },
    {
      "cell_type": "code",
      "metadata": {
        "id": "87nCShUz_bvE"
      },
      "source": [
        "print(x)"
      ],
      "execution_count": null,
      "outputs": []
    },
    {
      "cell_type": "code",
      "metadata": {
        "id": "Z6Akz9rV_iKF"
      },
      "source": [
        ""
      ],
      "execution_count": null,
      "outputs": []
    },
    {
      "cell_type": "markdown",
      "metadata": {
        "id": "6W2iBuVortKB"
      },
      "source": [
        "<font color='red'>Exercise 3</font>  \n",
        "Let's put together what we've learned thus far. In the cell below, create a variable `fav_num` and assign to it your favorite number between 1-100. Then, on line 2, print the value assigned to this variable."
      ]
    },
    {
      "cell_type": "code",
      "metadata": {
        "id": "XRvLGt62r9VX"
      },
      "source": [
        ""
      ],
      "execution_count": null,
      "outputs": []
    },
    {
      "cell_type": "markdown",
      "metadata": {
        "id": "tFtDiNnXMlJ0"
      },
      "source": [
        "\n",
        "\n",
        "---\n",
        "\n",
        "\n",
        "#### <font color='blue'>Note:</font> `=` vs `==`  \n",
        "Importantly, `=` and `==` have different meanings in Python. You learned in a previous module that `==` is a Boolean operator that returns either `True` or `False` and allows us to determine whether two values are equivalent. \n",
        "\n",
        "Today, you learned that the single `=` sign is used to assign values to variables. In other words, it is an assignment operator. See below for a simple example to illustrate the difference between the two operators:\n",
        "\n",
        "* `shoe_size = 8` assigns the value 8 to the variable `shoe_size`\n",
        "* `shoe_size == 5` checks whether the value stored in `shoe_size` is equivalent to 5; in this case, the answer is `False`\n",
        "\n",
        "Take special note of this difference – students commonly confuse the two and can become frustrated when their code doesn't behave as they expect it to.\n",
        "\n",
        "\n",
        "---\n"
      ]
    },
    {
      "cell_type": "markdown",
      "metadata": {
        "id": "hbFSFYm6_070"
      },
      "source": [
        "## 3. Updating a variable's value\n",
        "The value assigned to a variable isn't set in stone; rather, it can be changed. For example, imagine that it's your birthday and you need to update the value assigned to the variable `age`.\n",
        "  \n",
        "To update the value assigned to a variable, you simply repeat the assignment process. So, for example, if you initially wrote:\n",
        "\n",
        "`age = 20`  \n",
        "\n",
        "... and now you need to update this value to be 21, instead, you simply write:\n",
        "\n",
        "`age = 21`\n",
        "\n",
        "<font color='red'>Exercise 4</font>  \n",
        "You can verify that the value has changed using the `print()` function. Try running the cell below to see how this works, noting that this function will always display the *current* value assigned to the variable."
      ]
    },
    {
      "cell_type": "code",
      "metadata": {
        "id": "_Y1p2dnjASVz"
      },
      "source": [
        "age = 20\n",
        "print(age)\n",
        "age = 21\n",
        "print(age)"
      ],
      "execution_count": null,
      "outputs": []
    },
    {
      "cell_type": "markdown",
      "metadata": {
        "id": "M7MtuOIKArd_"
      },
      "source": [
        "## 4. Using Variables in Expressions  \n",
        "As noted above, the point of creating variables is to store values for later use. For example, you could assign the value 8 to the variable `shoe_size`, and then use this variable in a mathematical expression or Boolean expression. \n",
        "\n",
        "<font color='red'>Exercise 5</font>   \n",
        "Read the code in the cell below, and make a prediction about the result of the mathematical expression. Run the cell to check if you're correct!"
      ]
    },
    {
      "cell_type": "code",
      "metadata": {
        "id": "joLDyScjBCNi"
      },
      "source": [
        "shoe_size = 8\n",
        "2 * shoe_size"
      ],
      "execution_count": null,
      "outputs": []
    },
    {
      "cell_type": "markdown",
      "metadata": {
        "id": "5cWnQOzpBHn-"
      },
      "source": [
        "<font color='red'>Exercise 6</font>  \n",
        "In Exercise 3, you assigned the variable `fav_num` your favorite number. Below, write code that will divide the variable `fav_num` by 3.14."
      ]
    },
    {
      "cell_type": "code",
      "metadata": {
        "id": "sGyM4W_Eqm4m"
      },
      "source": [
        ""
      ],
      "execution_count": null,
      "outputs": []
    },
    {
      "cell_type": "markdown",
      "metadata": {
        "id": "6WXwIlFQuQ9z"
      },
      "source": [
        "<font color='red'>Exercise 7</font>  \n",
        "Next, write code that will determine whether the value assigned to `fav_num` is equivalent to 84. Reminder: `=` and `==` have different meanings!"
      ]
    },
    {
      "cell_type": "code",
      "metadata": {
        "id": "r8mFrS37uiI0"
      },
      "source": [
        ""
      ],
      "execution_count": null,
      "outputs": []
    },
    {
      "cell_type": "markdown",
      "metadata": {
        "id": "9szLBjzuBU-6"
      },
      "source": [
        "## 5. The basics of variable naming \n",
        "\n",
        "When it comes to creating variable names, there are a few Python rules that must be followed to avoid a Syntax Error:\n",
        "\n",
        "* Variable names can only contain letters, numbers, and the underscore symbol `_`. No other characters can be used.  \n",
        "* Names cannot *start* with a number.\n",
        "* Multi-part names cannot contain spaces; instead, use an underscore. For example, `fav num` isn't a valid variable name, but `fav_num` is.\n",
        "\n",
        "<font color='red'>Exercise 8</font>  \n",
        "With these rules in mind, think about which of the following cells you expect to cause a Syntax Error, and why. In each case, the goal is to create a variable name that represents the number of students in your class. Run each cell to determine if you're correct! "
      ]
    },
    {
      "cell_type": "code",
      "metadata": {
        "id": "rnBwvKkbq094"
      },
      "source": [
        "stat 101 = 35"
      ],
      "execution_count": null,
      "outputs": []
    },
    {
      "cell_type": "code",
      "metadata": {
        "id": "qk1A5Xdcq1hR"
      },
      "source": [
        "stat_101 = 35"
      ],
      "execution_count": null,
      "outputs": []
    },
    {
      "cell_type": "code",
      "metadata": {
        "id": "lEEe0hnTq3H4"
      },
      "source": [
        "101_stat = 35"
      ],
      "execution_count": null,
      "outputs": []
    },
    {
      "cell_type": "code",
      "metadata": {
        "id": "Y4YKUveYq4vI"
      },
      "source": [
        "stat-101 = 35"
      ],
      "execution_count": null,
      "outputs": []
    },
    {
      "cell_type": "markdown",
      "metadata": {
        "id": "YIiheT-kCPaY"
      },
      "source": [
        "---\n",
        "\n",
        "\n",
        "#### <font color='blue'>Note:</font> Snake case  \n",
        "Back to multi-part variable names, let's consider the example of `fav_num`. This underscore approach to multi-part variable names is called \"snake case\" and is the most common approach to variable naming in Python. To follow this approach, keep everything lowercase and simply insert underscores in place of spaces.\n",
        "\n",
        "Other approaches include \"camel case\" (`myNum`) and \"Pascal case\" (`MyNum`), which both technically follow Python's naming rules but are not the preferred style.\n",
        "\n",
        "If you'd like to learn more about Python style preferences, we encourage you to read the [Style Guide for Python Code](https://www.python.org/dev/peps/pep-0008/), called PEP8 for short.\n",
        "\n",
        "---\n"
      ]
    },
    {
      "cell_type": "markdown",
      "metadata": {
        "id": "2_it3yr0rMlo"
      },
      "source": [
        "## 6. Reserved words\n",
        "There is a small set of reserved words with special meaning in Python. To help you make sense of what reserved words are, consider the following:\n",
        "\n",
        "Dogs understand a small number of words in English, like treat, dinner, leash, walk, car, etc. You only use these words around a dog when you really mean it, because the dog will immediately react. \n",
        "\n",
        "The same thing applies to Python. You should avoid using reserved words as variable names because they have special meaning and Python will immediately spring into action.\n",
        "\n",
        "Reserved words include the following, some of which are already familiar to you:  \n",
        "<table>\n",
        "  <tr>\n",
        "    <td>and</td>\n",
        "    <td>break</td>\n",
        "    <td>def</td>\n",
        "    <td>else</td>\n",
        "    <td>finally</td>\n",
        "    <td>global</td>\n",
        "    <td>in</td>\n",
        "    <td>nonlocal</td>\n",
        "    <td>or</td>\n",
        "    <td>return</td>\n",
        "    <td>while</td>\n",
        "  </tr>\n",
        "  <tr>\n",
        "    <td>as</td>\n",
        "    <td>class</td>\n",
        "    <td>del</td>\n",
        "    <td>except</td>\n",
        "    <td>for</td>\n",
        "    <td>if</td>\n",
        "    <td>is</td>\n",
        "    <td>none</td>\n",
        "    <td>pass</td>\n",
        "    <td>true</td>\n",
        "    <td>with</td>\n",
        "  </tr>\n",
        "  <tr>\n",
        "    <td>assert</td>\n",
        "    <td>continue</td>\n",
        "    <td>elif</td>\n",
        "    <td>false</td>\n",
        "    <td>from</td>\n",
        "    <td>import</td>\n",
        "    <td>lambda</td>\n",
        "    <td>not</td>\n",
        "    <td>raise</td>\n",
        "    <td>try</td>\n",
        "    <td>yield</td>\n",
        "  </tr>\n",
        "</table>  \n",
        "  \n",
        "With respect to variable names, imagine you wanted to create a variable to represent the amount of an employee's upcoming raise. You might be tempted to use `raise` as your variable name, but it's a reserved word. Instead, you could choose something like `raise_amnt`."
      ]
    },
    {
      "cell_type": "markdown",
      "metadata": {
        "id": "wKghlTEtJm0o"
      },
      "source": [
        "## 7. General naming tips  \n",
        "In addition to the rules and style preferences described above, the following are general naming tips that will make your code more readable: \n",
        "* Use short variable names  \n",
        "    * Short names save space and are easier to type repeatedly  \n",
        "* Use meaningful names  \n",
        "    * Your students and your future self will thank you!  \n",
        "\n",
        "Keeping both of these suggestions in mind, imagine that you need a variable name to represent the number of states in the US.  \n",
        "* `number_of_states` is too long  \n",
        "* `n` is short, but not meaningful  \n",
        "* `n_states` is both short and meaningful\n",
        "\n",
        "<font color='red'>Exercise 9</font>  \n",
        "Try it yourself! Imagine that you're using Python to build a text-based adventure game, and you need to create a variable to store the current score of player #1. Below, assign the value 42 to your chosen variable name. \n",
        "\n",
        "Note: As long as you don't violate any of the above rules, preferences, or tips, there are many possible correct answers to this exercise!"
      ]
    },
    {
      "cell_type": "code",
      "metadata": {
        "id": "MjazK_AhxTk0"
      },
      "source": [
        ""
      ],
      "execution_count": null,
      "outputs": []
    },
    {
      "cell_type": "markdown",
      "metadata": {
        "id": "IYhZVuWvLTJT"
      },
      "source": [
        "## 8. Be warned: Python is literal\n",
        "Python is like a calculator: it will do exactly what you tell it to do, not what you *want* it to do. It doesn't \"know what you meant to type\" and it doesn't autocorrect.\n",
        "\n",
        "Back to our scenario regarding the number of states in the US... \n",
        "\n",
        "Imagine that you created the variable `n_states` and assigned it the value 50. Python will complain if you later mistype the variable when trying to use in an expression. For example, all of the following would cause errors:\n",
        "\n",
        "* `n_status`  \n",
        "* `n_state`  \n",
        "* `N_states`  \n",
        "\n",
        "You can see that each of these differs from the original in some way – spelling, pluralization, or capitalization. All of these differences are meaningful to Python!\n",
        "\n",
        "Note that if you create a variable and later mistype it, you'll get a Name Error, indicating that Python doesn't recognize the variable name you're attempting to use. \n",
        "\n",
        "<font color='red'>Exercise 10</font>  \n",
        "Using your variable name from Exercise 9 (relating to the player's score), write an expression using this variable name in which you increase the player's score by 10 points (i.e., add 10). In the first cell, write the variable name correctly. In the second cell, try changing the capitalization of one letter to see what a NameError looks like."
      ]
    },
    {
      "cell_type": "code",
      "metadata": {
        "id": "EOkWfhuoMOao"
      },
      "source": [
        "# correct name\n"
      ],
      "execution_count": null,
      "outputs": []
    },
    {
      "cell_type": "code",
      "metadata": {
        "id": "rex9pgZyrwwZ"
      },
      "source": [
        "# incorrect name"
      ],
      "execution_count": null,
      "outputs": []
    },
    {
      "cell_type": "markdown",
      "metadata": {
        "collapsed": true,
        "id": "QRjGc_2gDcrY"
      },
      "source": [
        "## Congrats, you're done! \n",
        "Next module, we'll start learning about a new data type: strings."
      ]
    }
  ]
}
