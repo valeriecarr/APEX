{
  "nbformat": 4,
  "nbformat_minor": 0,
  "metadata": {
    "kernelspec": {
      "display_name": "Python 3",
      "language": "python",
      "name": "python3"
    },
    "language_info": {
      "codemirror_mode": {
        "name": "ipython",
        "version": 3
      },
      "file_extension": ".py",
      "mimetype": "text/x-python",
      "name": "python",
      "nbconvert_exporter": "python",
      "pygments_lexer": "ipython3",
      "version": "3.7.1"
    },
    "colab": {
      "name": "Module10_your_own_data.ipynb",
      "provenance": [],
      "include_colab_link": true
    }
  },
  "cells": [
    {
      "cell_type": "markdown",
      "metadata": {
        "id": "view-in-github",
        "colab_type": "text"
      },
      "source": [
        "<a href=\"https://colab.research.google.com/github/valeriecarr/APEX/blob/main/Module10_your_own_data.ipynb\" target=\"_parent\"><img src=\"https://colab.research.google.com/assets/colab-badge.svg\" alt=\"Open In Colab\"/></a>"
      ]
    },
    {
      "cell_type": "markdown",
      "metadata": {
        "id": "lnXOxVPEkZ5f"
      },
      "source": [
        "<img src='https://images.pexels.com/photos/10325707/pexels-photo-10325707.png?auto=compress&cs=tinysrgb&dpr=2&h=750&w=1260' width=700>  \n",
        "Photo by Lucas DC from Pexels"
      ]
    },
    {
      "cell_type": "markdown",
      "metadata": {
        "id": "svAPrOFekdFH"
      },
      "source": [
        "# APEX Faculty Training, Module 10: Working with Your Own Data\n",
        "\n",
        "Created by Valerie Carr and Jaime Zuspann  \n",
        "Licensed under a Creative Commons license: CC BY-NC-SA  \n",
        "Last updated: January 3, 2024  \n",
        "\n",
        "**Learning outcomes**  \n",
        "* To learn how to use Pandas to access your own data files through two methods: via GitHub and via Google Drive"
      ]
    },
    {
      "cell_type": "markdown",
      "metadata": {
        "id": "hI79e_J1lAAH"
      },
      "source": [
        "## 0. A couple notes before you start\n",
        "* This file is view only, meaning that you can't edit it.\n",
        "    * To create an editable copy, look towards the top of the notebook and click on `Copy to Drive`. This will cause a new tab to open with your own personal copy.\n",
        "    * If you want to refer back to your copy in the future, you can find it in Google Drive in a folder called `Colab Notebooks`.\n",
        "* To run a cell, use `shift` + `enter`.   \n",
        "* Keep the following Python style preferences in mind:\n",
        "    * Variable names should use `snake_case`\n",
        "    * Include spaces before and after operators, e.g., `x + 1`\n",
        "    * Don't put unnecessary spaces after a function name, before the parentheses\n",
        "        * Correct: `print(my_variable)`\n",
        "        * Incorrect: `print (my_variable)`\n",
        "    * Don't put unnecessary spaces at the beginning or end of parentheses\n",
        "        * Correct: `print(my_variable)`\n",
        "        * Incorrect: `print( my_variable )`"
      ]
    },
    {
      "cell_type": "markdown",
      "source": [
        "## 1. Importing Pandas\n",
        "\n",
        "<font color='red'>Exercise 1</font>  \n",
        "Since we'll still be using the Pandas library for this module, we'll need to import it usign the usual `pd` abbreviation. Include this line of code below."
      ],
      "metadata": {
        "id": "OB2QZYwdoUpA"
      }
    },
    {
      "cell_type": "code",
      "source": [],
      "metadata": {
        "id": "1_5kXC9bolph"
      },
      "execution_count": null,
      "outputs": []
    },
    {
      "cell_type": "markdown",
      "metadata": {
        "id": "DKwAYq8KJjo7"
      },
      "source": [
        "## 2. Working with Your Own Data\n",
        "Now that you have experience working with our premade datasets, you may be wondering how you can instead work with your own data. Thankfully, there are two easy methods for using your own files in Colab: via GitHub or via Google Drive.\n",
        "\n",
        "If you're unfamiliar with GitHub, it's a platform for hosting code that allows for version control and collaboration. It can also be used for a much simpler purpose, storing datasets in the form of CSV files, which is exactly what we'll be doing.\n",
        "\n",
        "We will cover both the GitHub and Google Drive approaches in this module, with exercises along the way, as usual. Neither is preferable over the other; rather, we recommend that you choose the method that works best for you."
      ]
    },
    {
      "cell_type": "markdown",
      "source": [
        "## 3. The GitHub Approach"
      ],
      "metadata": {
        "id": "W_1L8uCjzkpk"
      }
    },
    {
      "cell_type": "markdown",
      "source": [
        "### 3a. Create a GitHub Account\n",
        "\n",
        "If you already have a GitHub account, great! Simply login and proceed to `3b`.\n",
        "\n",
        "If you don't yet have a GitHub account, the first step will be to navigate to https://github.com and create an account. You should see a field for you to input your email address and a button to \"Sign up for GitHub\". You'll be taken to another page, where you can edit your email address if necessary, then click \"Continue\" and create your password and username, and complete verification for your account."
      ],
      "metadata": {
        "id": "-4gI9T7SQD2F"
      }
    },
    {
      "cell_type": "markdown",
      "source": [
        "### 3b. Create a Repository\n",
        "Next, you'll need to create a repository (or \"repo\") in which you'll store your data. A repository is simply a place to store related files, for example, code and data files all related to the same project.\n",
        "\n",
        "To create a new repo:\n",
        "* Click the small `+` button at the top right of the page, next to the user icon. From the drop-down menu that appears, select `New Repository`.\n",
        "* On the next page, you'll need to specify the repo name (e.g., \"data_samples\") and add a description (e.g., \"data sets to be used in Intro Stats\"). Don't worry about changing the other options from the default.\n",
        "* When you're finished, click the `Create Repository` button. You now have a repo to store your own data!\n",
        "* Continue reading below for next steps."
      ],
      "metadata": {
        "id": "rNus2EMkgs9h"
      }
    },
    {
      "cell_type": "markdown",
      "source": [
        "### 3c. Add CSV Files\n",
        "\n",
        "A quick bit of background: Most of us are familiar with excel (.xlsx) files and Google Sheets as ways to save spreadsheet data. A comma separate values (.csv) file is another means of storing spreadsheet data, and it's the recommended file type when working with GitHub. If you have an existing spreadsheet in excel or Sheets, simply go to save as and select CSV.\n",
        "\n",
        "Back to adding files to your newly creataed repo...\n",
        "\n",
        "You should see a new page with a blue rectangle at the top that says \"Quick setup\". At the bottom of this section, you should see: \"Get started by creating a new file or uploading an existing file\".\n",
        "* Click the link that says \"uploading an existing file\", which will take you to a new page that allows you to either drag and drop files, or choose files from your computer.\n",
        "* Go ahead and upload a CSV file of your choosing using either of these methods.\n",
        "\n",
        "Underneath the section for adding new files, you'll see another section that says `Commit changes`. When you add a file (or make a change to a file) in your repo, this is called a \"commit.\" In other words, you're committing changes to the repo. Each commit should have a brief descriptive message indicating what changes the commit entailed.\n",
        "\n",
        "Something simple like \"Added my_file.csv\" is sufficient. The idea is to be able to look at the message and have an overview of what the commit involved. Below the commit message is an area for an optional and more in-depth description for that commit. This isn't required, but you may find it useful to include a blurb about the data file's contents.\n",
        "\n",
        "Once you've added the commit message and optional description, click the \"Commit changes\" button at the bottom. After a few seconds of processing, your CSV file is now hosted in GitHub and can be used in Colab notebooks. Continue reading for one final step."
      ],
      "metadata": {
        "id": "SwdkMFm51uq1"
      }
    },
    {
      "cell_type": "markdown",
      "source": [
        "### 3d. Obtain URL for CSV File\n",
        "To use a GitHub file (i.e., a file stored in your GitHub repo) for analysis in Colab, you'll need to obtain the URL for that file.\n",
        "\n",
        "* In your GitHub repo, click the name of the desired CSV file. (Be sure to click the actual file name and not the commit message to the right of it.)\n",
        "* This will bring you to a page with a preview of the file in a spreadsheet-like format.\n",
        "At the top right corner of the preview, click the button that says `Raw`.\n",
        "* This will display the file's contents a bit differently – as comma separated values (which is what you want!). The URL in the address bar is the URL you'll need for Colab.\n",
        "* Copy this URL, and continue to Exercise 2 for an explanation of where to put the URL within Colab."
      ],
      "metadata": {
        "id": "-Zyi3CXSlW4V"
      }
    },
    {
      "cell_type": "markdown",
      "source": [
        "<font color='red'>Exercise 2</font>  \n",
        "In your Colab notebook, you'll need to create a variable to represent the file. Below, we simply use `filename`. Then, you'll paste your URL as a string (i.e., with quote markes around it).\n",
        "* Replace the sample URL below with your actual URL.\n",
        "* Next, insert a line of code beneath it that will read the file in and create a dataframe with a name of your choosing. Look back at Module 8, Exercise 4 if you need a reminder.\n",
        "* Finally, insert code that will allow you to view the header (i.e., the first few lines of the dataframe)."
      ],
      "metadata": {
        "id": "xCHsi7i8VkMb"
      }
    },
    {
      "cell_type": "code",
      "source": [
        "# replace the URL with your own\n",
        "filename = 'https://raw.githubusercontent.com/bla/bla/bla'\n",
        "\n",
        "# read in file as dataframe\n",
        "\n",
        "# view header\n"
      ],
      "metadata": {
        "id": "qNMHnpYdVsd8"
      },
      "execution_count": null,
      "outputs": []
    },
    {
      "cell_type": "markdown",
      "source": [
        "### 3e. Adding Files in the Future\n",
        "You can add more files in the future as follows:\n",
        "* Login in to your GitHub account and select the relevant repo from the left side of the screen.\n",
        "* You should now see a list of existing files. Above this list and to the right, click on the `Add file` button and then select `Upload files`.\n",
        "* The resulting screen should look familiar to you, such that you can drag and drop or select files from your computer. You'll need to include a commit message, commit the file, and then obtain the URL as described above.\n",
        "\n",
        "And that's the GitHub approach! If you would prefer to store your files on Google Drive, instead, continue reading below."
      ],
      "metadata": {
        "id": "n9Gtc8QIo92z"
      }
    },
    {
      "cell_type": "markdown",
      "metadata": {
        "id": "E48I6l-ervev"
      },
      "source": [
        "## 4. The Google Drive Approach\n",
        "Another approach for working with your own data in Colab is to store your files on Google Drive. There are actually two different methods for using files on Drive:\n",
        "1. Provide Colab with a link to a Google Sheet\n",
        "2. Connect Google Drive and Google Colab so that Colab has access to all CSV files stored in Drive\n",
        "\n",
        "Below we'll provide instructions for each method.\n",
        "\n",
        "**Note:** These instructions assume that you already have a Google account, e.g., an account associated with your insitution or a personal account."
      ]
    },
    {
      "cell_type": "markdown",
      "source": [
        "###4a. Linking to a Google Sheet\n",
        "\n",
        "<font color='red'>Exercise 10</font>  \n",
        "The following steps will teach you how to use your own data stored as a Google Sheet:\n",
        "* Go to [Google Drive](https://drive.google.com/)\n",
        "* Create a new Google Sheet: In the upper left of Drive, click the `+New` button and select Google Sheets.\n",
        "    * A new tab will open with a blank Google Sheet. In the upper left, click `Untitled Spreadsheet` and give it a name of your choosing.\n",
        "* Enter in some simple data for the purposes of this exercise. For example, you could create a single column named `grades` and generate a handful of fake scores.\n",
        "* Once you're ready to use your Google Sheet, in the upper right of the sheet, click on the `Share` button.\n",
        "    * Change access to be `Anyone with the link` and then click `Copy link`.\n",
        "* In the cell below, replace `link` with your sharing link (note: make sure to leave the quote marks in place!)\n",
        "* Next, you'll need to replace the end of the link (`edit?usp=sharing`) with `export?format=csv`\n",
        "* Go ahead and run the cell. If everything worked properly, you should now see the first few rows of your dataframe!"
      ],
      "metadata": {
        "id": "FjI30gJi0OWk"
      }
    },
    {
      "cell_type": "code",
      "source": [
        "# Copy/paste your shareable link, and then modify it\n",
        "filepath = 'link'\n",
        "new_df = pd.read_csv(filepath)\n",
        "new_df.head()"
      ],
      "metadata": {
        "id": "YPfvHVtb0ss0"
      },
      "execution_count": null,
      "outputs": []
    },
    {
      "cell_type": "markdown",
      "source": [
        "### 4b. Connecting Drive and Colab\n",
        "\n",
        "<font color='red'>Exercise 11</font>  \n",
        "\n",
        "*Log in to Drive*\n",
        "\n",
        "Go to https://drive.google.com/.\n",
        "* If you're already logged in to the proper account, you should see your Drive folders and files as usual.\n",
        "* If you're not already logged in, click the \"Go to Drive\" button at the top right corner, and follow the steps to login. You should now see your folders and files."
      ],
      "metadata": {
        "id": "WTe0_e5ArGYt"
      }
    },
    {
      "cell_type": "markdown",
      "source": [
        "*Add desired file(s) to Drive*\n",
        "\n",
        "In Drive, navigate to where you would like to store your CSV file(s), creating one or more new folders if necessary. Once you've navigatged to the desired folder, you can upload files to Drive by simply dragging and dropping the file onto the page. Alternatively, you can click the \"+ New\" button at the top left of the page and choose \"File Upload\", then choose the desired file from your computer.\n",
        "\n",
        "When you've uploaded the file(s), make sure to note the precise location or \"file path\", given that you'll need this information later. For example:\n",
        "\n",
        "`/My Drive/APEX/Data/my_data.csv`\n",
        "\n",
        "In the above example, slashes denote folders. In other words, within My Drive, imagine you have a folder called APEX, and within that you have another folder called Data, and within that you have your file."
      ],
      "metadata": {
        "id": "acaD-6GrsNae"
      }
    },
    {
      "cell_type": "markdown",
      "source": [
        "*Connect Drive and Colab*\n",
        "\n",
        "The next step needs to be completed in Colab rather than in Drive. Specifically, you need to give Colab permission to connect to your Drive account to access the desired file.\n",
        "\n",
        "In brief, the code below imports a library relevant for working with files in Drive, and then connects to your desired Google Drive account.\n",
        "\n",
        "Run the cell below, which will bring up several windows and prompts as follows:\n",
        "* Permission to connect the current notebook to Google Drive; click `Connect to Google Drive`\n",
        "* Selection of the preferred Google account; simply click the relevant account\n",
        "* Notification that connecting with Google Drive will allow you to see, edit, create, and delete files in Drive, among other things; click `Allow`\n",
        "\n",
        "It may take several seconds to connect once you've finished these steps, but eventually you should see an output beneath the cell that says\" `Mounted at /content/drive`."
      ],
      "metadata": {
        "id": "fUEC1ZbKtf3p"
      }
    },
    {
      "cell_type": "code",
      "metadata": {
        "id": "sjOCmnIDfaw8"
      },
      "source": [
        "from google.colab import drive\n",
        "drive.mount('/content/drive')"
      ],
      "execution_count": null,
      "outputs": []
    },
    {
      "cell_type": "markdown",
      "source": [
        "<font color='red'>Exercise 12</font>  \n",
        "\n",
        "You're now ready to read in your desired CSV file and create a dataframe. Unlike the GitHub approach, however, we won't be using a URL. Instead, we'll point Colab to the file's location (\"file path\") in Drive:\n",
        "\n",
        "* Create a variable called `filepath` or something similar, and assign it the path to your file as a string. As a reminder, you should put slashes between each folder.\n",
        "* **Note:** When specifying the file path, you will always need to include `/content/drive/` at the very beginning of the path, before you start specifying the exact location.\n",
        "* Putting it all together, you might have:\n",
        "\n",
        "`filepath = '/content/drive/My Drive/APEX/Data/my_data.csv'`\n",
        "\n",
        "Naturally, the part of the path after `My Drive` will be different for each user, and different for each specific file.\n",
        "\n",
        "In the cell below, create the variable `filepath` and then assign it a string with the path to your desired file, using the above code as an example. Make sure to run the cell, although note that you won't see any output."
      ],
      "metadata": {
        "id": "hY1fFHTqvAN8"
      }
    },
    {
      "cell_type": "code",
      "source": [],
      "metadata": {
        "id": "KBSNzo6Hwd15"
      },
      "execution_count": null,
      "outputs": []
    },
    {
      "cell_type": "markdown",
      "source": [
        "<font color='red'>Exercise 13</font>  \n",
        "Awesome! Now that you have a variable that contains the path to your file, you can simply read in the CSV file using the Pandas process with which you're familiar. Like before, go ahead and check the header to make sure that everything worked properly.\n",
        "\n",
        "If you get an error along the lines of \"File does not exist\"...\n",
        "* This is an indication that there's a problem with your file path.\n",
        "* Go back to Exercise 12 and double check that you've properly specified the path, keeping in mind that Python is picky about spelling, capitalization, spacing, and so forth. Also double check that your path includes the `/content/drive/` bit at the beginning (with a slash before `content`).\n",
        "* Once you've fixed your path, try running the cell in Exercises 12 and 13 again."
      ],
      "metadata": {
        "id": "7YaTmGjtwlxt"
      }
    },
    {
      "cell_type": "code",
      "source": [],
      "metadata": {
        "id": "g44wB0TPxZdd"
      },
      "execution_count": null,
      "outputs": []
    },
    {
      "cell_type": "markdown",
      "source": [
        "## All done!\n",
        "Now you're ready to use your own data files using either of the methods covered here. It would be great to practice some of the Python concepts you've learned thus far on your own data. Feel free to review prior modules, but this time using your own data instead!\n",
        "\n",
        "Next up, we'll cover the basics of conducting statistical analyses in Python."
      ],
      "metadata": {
        "id": "vYqInSA0L4Ph"
      }
    }
  ]
}