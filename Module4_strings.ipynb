{
  "nbformat": 4,
  "nbformat_minor": 0,
  "metadata": {
    "kernelspec": {
      "display_name": "Python 3",
      "language": "python",
      "name": "python3"
    },
    "language_info": {
      "codemirror_mode": {
        "name": "ipython",
        "version": 3
      },
      "file_extension": ".py",
      "mimetype": "text/x-python",
      "name": "python",
      "nbconvert_exporter": "python",
      "pygments_lexer": "ipython3",
      "version": "3.7.1"
    },
    "colab": {
      "name": "Module4_strings.ipynb",
      "provenance": [],
      "collapsed_sections": [],
      "include_colab_link": true
    }
  },
  "cells": [
    {
      "cell_type": "markdown",
      "metadata": {
        "id": "view-in-github",
        "colab_type": "text"
      },
      "source": [
        "<a href=\"https://colab.research.google.com/github/JaimeAdele/APEX/blob/main/Module4_strings.ipynb\" target=\"_parent\"><img src=\"https://colab.research.google.com/assets/colab-badge.svg\" alt=\"Open In Colab\"/></a>"
      ]
    },
    {
      "cell_type": "markdown",
      "metadata": {
        "id": "tcP2h0QW0A6X"
      },
      "source": [
        "<img src='https://images.pexels.com/photos/247819/pexels-photo-247819.jpeg?w=700&h=250&fit=crop' height=300px witdth=700px>  \n",
        "Photo by Wokandapix from Pixabay"
      ]
    },
    {
      "cell_type": "markdown",
      "metadata": {
        "id": "L3vFn9_lzweJ"
      },
      "source": [
        "# APEX Faculty Training, Module 4: Strings\n",
        "Created by Valerie Carr and Jaime Zuspann  \n",
        "Licensed under a Creative Commons license: CC BY-NC-SA  \n",
        "Last updated: Nov 28, 2021  \n",
        "\n",
        "**Learning outcomes**  \n",
        "1. To learn the purpose of the `type()` function\n",
        "2. To learn how to create strings\n",
        "3. To practice using comparison operators with strings"
      ]
    },
    {
      "cell_type": "markdown",
      "metadata": {
        "id": "LiPDUmfw3Np7"
      },
      "source": [
        "## 1. A couple notes before you start \n",
        "* This file is view only, meaning that you can't edit it.\n",
        "    * To create an editable copy, look towards the top of the notebook and click on `Copy to Drive`. This will cause a new tab to open with your own personal copy.\n",
        "    * If you want to refer back to your copy in the future, you can find it in Google Drive in a folder called `Colab Notebooks`.\n",
        "* To run a cell, use `shift` + `enter`.   \n",
        "* As we continue to learn how to build more complex code, we also need to keep Python style preferences in mind:\n",
        "    * Variable names should use `snake_case`\n",
        "    * Include spaces before and after operators, e.g., `x + 1`\n",
        "    * NEW: Don't put unnecessary spaces after a function name before the parentheses\n",
        "        * Correct: `print(my_variable)`\n",
        "        * Incorrect: `print (my_variable)`\n",
        "    * NEW: Don't put unnecessary spaces at the beginning or end of parentheses\n",
        "        * Correct: `print(my_variable)`\n",
        "        * Incorrect: `print( my_variable )`"
      ]
    },
    {
      "cell_type": "markdown",
      "metadata": {
        "id": "ERN12yQVtRvW"
      },
      "source": [
        "## 2. Why does Python have different data types?  \n",
        "First, consider the following. In everyday life, we treat letters and numbers differently:  \n",
        "* We can multiply, divide, or square numbers  \n",
        "* We can use letters to form words and sentences  \n",
        "* We can't can't divide \"economics\" by \"psychology\"  \n",
        "\n",
        "In other words, we perform different operations on numbers than we do on letters. Python is exactly the same! By utilizing different data types, Python knows what operations can be performed on the data."
      ]
    },
    {
      "cell_type": "markdown",
      "metadata": {
        "id": "92XS6HDw3dtR"
      },
      "source": [
        "## 3. Determining data type\n",
        "Given that we've only learned a small handful of data types so far (int, float, bool), it's relatively easy to remember which is which. However, the\n",
        "function `type()` can come in handy when you want to double check. Essentially, this function will tell you the data type of whatever you place inside the parentheses. For example: `type(6)` will return `int` because 6 is an integer.\n",
        "\n",
        "<font color='red'>Exercise 1</font>  \n",
        "Run the cells below to see how the `type()` function works. As you can see in the last example, you can also include variable names in the parentheses."
      ]
    },
    {
      "cell_type": "code",
      "metadata": {
        "id": "W2n55OBr9mgP"
      },
      "source": [
        "type(2000)"
      ],
      "execution_count": null,
      "outputs": []
    },
    {
      "cell_type": "code",
      "metadata": {
        "id": "qhEy9M6G9omU"
      },
      "source": [
        "type(3.14 * 2)"
      ],
      "execution_count": null,
      "outputs": []
    },
    {
      "cell_type": "code",
      "metadata": {
        "id": "eCq9kY2t9qi3"
      },
      "source": [
        "type(False)"
      ],
      "execution_count": null,
      "outputs": []
    },
    {
      "cell_type": "code",
      "metadata": {
        "id": "hEXyOfig9svv"
      },
      "source": [
        "a = 6 * 4\n",
        "type(a)"
      ],
      "execution_count": null,
      "outputs": []
    },
    {
      "cell_type": "markdown",
      "metadata": {
        "id": "xteTOWiezweK"
      },
      "source": [
        "<font color='red'>Exercise 2</font>  \n",
        "In the cell below, create a new line underneath the one already written, and use the `type()` function to determine the data type for the value assigned to `answer`."
      ]
    },
    {
      "cell_type": "code",
      "metadata": {
        "id": "loYySOlczweL"
      },
      "source": [
        "answer = 'yes'"
      ],
      "execution_count": null,
      "outputs": []
    },
    {
      "cell_type": "markdown",
      "metadata": {
        "id": "WOXyrrwytv1F"
      },
      "source": [
        "This is a new data type! Continue on to learn more..."
      ]
    },
    {
      "cell_type": "markdown",
      "metadata": {
        "id": "_vYLpuqNzweY"
      },
      "source": [
        "## 4. String basics\n",
        "A string, or str, is a data type that you can think of as text or characters. Strings include letters, punctuation, symbols, spaces, and numbers (when the numbers are treated as text, as in the phone number example).  \n",
        "\n",
        "* 'Hello World!'\n",
        "* 'a'\n",
        "* 'My phone number is 555-123-4567'\n",
        "* '@#?!'\n",
        "\n",
        "You may be wondering why there are quote marks around each of these examples... \n",
        "\n",
        "Quote marks are how we tell Python: this is a string! Python doesn't care if you use single or double quotes around strings. Throughout these modules, we'll use single quotes, but the choice is entirely up to you – neither is more correct than the other, and there is no standard preference in the field. The important thing is to stay consistent (i.e., pick single or double quotes and stick with that choice).  \n",
        "\n",
        "<font color='red'>Exercise 3</font>  \n",
        "Below you'll see two separate cells, each of which contains the number 13.2. In the first cell, there are no quote marks, and in the second, there are quote marks. What impact does this have? These are two different data types! \n",
        "\n",
        "To check, use the `type()` function on the values in the cells below. In other words, put the values below inside the parentheses of the `type()` function."
      ]
    },
    {
      "cell_type": "code",
      "metadata": {
        "id": "odVJJoviuHAI"
      },
      "source": [
        "13.2"
      ],
      "execution_count": null,
      "outputs": []
    },
    {
      "cell_type": "code",
      "metadata": {
        "id": "GS28keRruJe_"
      },
      "source": [
        "'13.2'"
      ],
      "execution_count": null,
      "outputs": []
    },
    {
      "cell_type": "markdown",
      "metadata": {
        "id": "Ap3lbXdouMrC"
      },
      "source": [
        "<font color='red'>Exercise 4</font>  \n",
        "Now you know for certain that the first value above is a float, and the second is a string. Practically speaking, what does this mean? This is best illustrated by trying to divide each of these values by two. Run both of the cells below to see what happens."
      ]
    },
    {
      "cell_type": "code",
      "metadata": {
        "id": "8CJIg1XouTgH"
      },
      "source": [
        "13.2 / 2"
      ],
      "execution_count": null,
      "outputs": []
    },
    {
      "cell_type": "code",
      "metadata": {
        "id": "3gSnTWSLuVH2"
      },
      "source": [
        "'13.2' / 2"
      ],
      "execution_count": null,
      "outputs": []
    },
    {
      "cell_type": "markdown",
      "metadata": {
        "id": "zy7jO8dtuYr7"
      },
      "source": [
        "You received your first Type Error! Type Errors indicate that you've attempted to perform an operation that isn't allowed for that data type. In this case, you can't perform the same operations on strings as you do floats."
      ]
    },
    {
      "cell_type": "markdown",
      "metadata": {
        "id": "1lSVA2Abqojm"
      },
      "source": [
        "<font color='red'>Exercise 5</font>  \n",
        "As mentioned above, you can indicate that a value is a string by using single or double quotes around it. However, you must use quotes! \n",
        "\n",
        "Below, try assigning the variable `fav_drink` the name of your favorite type of drink (coffee, tea, boba, etc.), but don't use quotes around the drink name. Run the cell and see what happens."
      ]
    },
    {
      "cell_type": "code",
      "metadata": {
        "id": "tW9Lmjd-zweZ"
      },
      "source": [
        ""
      ],
      "execution_count": null,
      "outputs": []
    },
    {
      "cell_type": "markdown",
      "metadata": {
        "id": "PyxbtEM8ul-b"
      },
      "source": [
        "You got a Name Error! This is because Python didn't know that you were trying to create a string. Rather, it saw some letters (such as `coffee`) and assumed that those letters were a variable name. Specifically, it thought that you were trying to create the variable `fav_drink` and give it the same value already assigned to `coffee`. However, because the variable `coffee` doesn't exist, you received a Name Error.\n",
        "\n",
        "Bottom line, quote marks are critical! They help differentiate numbers from strings, and they help differentiate strings from variable names."
      ]
    },
    {
      "cell_type": "markdown",
      "metadata": {
        "id": "75BVOVVudE5x"
      },
      "source": [
        "## 5. Printing strings  \n",
        "You've already learned about the `print()` function, which displays whatever you put inside the parenthesis in the output section beneath the cell. One thing to note about printing strings is that the output will not display the quote marks.  \n",
        "\n",
        "<font color='red'>Exercise 6</font>  \n",
        "As you can see, the cell below contains a string enclosed in quotes. Insert a new line beneath the string and use the `print()` function to print `econ`. Note the difference between the input (with quotes) and output (no quotes)."
      ]
    },
    {
      "cell_type": "code",
      "metadata": {
        "id": "Ndidu8Bbzwec"
      },
      "source": [
        "econ = 'An abbreviation for economics is econ'"
      ],
      "execution_count": null,
      "outputs": []
    },
    {
      "cell_type": "markdown",
      "metadata": {
        "id": "SpEbfLSsvAbW"
      },
      "source": [
        "## 6. Comparison operators: Equality and inequality  \n",
        "As with the other data types we've worked with, comparison operators can  be applied to strings to create Boolean expressions.  \n",
        "\n",
        "<font color='red'>Exercise 7</font>   \n",
        "Let's start by reviewing `==` and `!=`, which assess equality and inequality, respectively. Run the following cells to see how these operations work for strings."
      ]
    },
    {
      "cell_type": "code",
      "metadata": {
        "id": "u-UokTf6vCCd"
      },
      "source": [
        "# assign a value\n",
        "my_string = 'hello'"
      ],
      "execution_count": null,
      "outputs": []
    },
    {
      "cell_type": "code",
      "metadata": {
        "id": "_TM3MofivCuM"
      },
      "source": [
        "# test for equality\n",
        "my_string == 'hello'"
      ],
      "execution_count": null,
      "outputs": []
    },
    {
      "cell_type": "code",
      "metadata": {
        "id": "0jP0435IvEDW"
      },
      "source": [
        "# test for inequality\n",
        "my_string != 'hello'"
      ],
      "execution_count": null,
      "outputs": []
    },
    {
      "cell_type": "markdown",
      "metadata": {
        "id": "d0gjyNkqvHsv"
      },
      "source": [
        "<font color='red'>Exercise 8</font>   \n",
        "In the cell below, create the variable `fav_band1` and assign it a string of your current favorite band. In the same cell, start a new line and create the variable `fav_band2`, then assign it the name of your favorite band when you were in middle school. Ensure that you run the cell when you're done (and don't forget the quote marks for your strings!)."
      ]
    },
    {
      "cell_type": "code",
      "metadata": {
        "id": "8d-XZMervJ0o"
      },
      "source": [
        "# Current favorite band\n",
        "\n",
        "# Favorite band in middle school\n"
      ],
      "execution_count": null,
      "outputs": []
    },
    {
      "cell_type": "markdown",
      "metadata": {
        "id": "JdntDAK8vL1s"
      },
      "source": [
        "Next, determine whether your favorite band has remained the same through the years, i.e., test for equality of the two variables."
      ]
    },
    {
      "cell_type": "code",
      "metadata": {
        "id": "Oie8_iL8vN2k"
      },
      "source": [
        "# Has your favorite band stayed the same?\n"
      ],
      "execution_count": null,
      "outputs": []
    },
    {
      "cell_type": "markdown",
      "metadata": {
        "id": "s1qny-WHvRkW"
      },
      "source": [
        "<font color='red'>Exercise 9</font>  \n",
        "As is the case with variable names, spelling, pluralization, and capitalization are all important when it comes to strings.\n",
        "\n",
        "Below, write code to determine whether the string `dog` is equivalent to the string `Dog`. What do you think the answer will be?"
      ]
    },
    {
      "cell_type": "code",
      "metadata": {
        "id": "qyh_CZUxvTcS"
      },
      "source": [
        ""
      ],
      "execution_count": null,
      "outputs": []
    },
    {
      "cell_type": "markdown",
      "metadata": {
        "id": "1JrH4q_avVuK"
      },
      "source": [
        "## 7. Comparison operators: Less than and greater than \n",
        "You might have assumed that it's impossible to determine whether one string is greater or less than the other. However, Python uses `<` and `>` as a means of determining aphabetical order of strings. \n",
        "\n",
        "Think of < as meaning “appears before” and > as meaning “appears after” with respect to alphabetical order. For example `'apple' < 'banana'` would return `True` because apple appears before banana in the alphabet.\n",
        "\n",
        "It might also help to think of 'a' as having the smallest value in the alphabet (1), and 'z' having the largest value (26).  \n",
        "\n",
        "<font color='red'>Exercise 10</font>  \n",
        "In the cell below, create the variable `fav_book` and assign it your favorite book as a string. In the same cell, start a new line and create the variable `fav_movie`, and then assign it your favorite movie as a string."
      ]
    },
    {
      "cell_type": "code",
      "metadata": {
        "id": "pEWdTzefvZE0"
      },
      "source": [
        "# Favorite book\n",
        "\n",
        "# Favorite movie\n"
      ],
      "execution_count": null,
      "outputs": []
    },
    {
      "cell_type": "markdown",
      "metadata": {
        "id": "GtpmKRWwvauj"
      },
      "source": [
        "Next, determine whether `fav_book` appears after `fav_movie` in the alphabet."
      ]
    },
    {
      "cell_type": "code",
      "metadata": {
        "id": "MBvSI5x0vdan"
      },
      "source": [
        "# Does fav_book appear after fav_movie in the alphabet?\n"
      ],
      "execution_count": null,
      "outputs": []
    },
    {
      "cell_type": "markdown",
      "metadata": {
        "id": "fjisvSR4tITN"
      },
      "source": [
        "# You made it to the end!  \n",
        "However, we're just getting started with strings. In the next module, you'll learn additional operations we can perform on strings and how Python can access specific characters within a string using an approach called indexing."
      ]
    }
  ]
}
